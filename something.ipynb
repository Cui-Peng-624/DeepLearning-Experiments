{
 "cells": [
  {
   "cell_type": "markdown",
   "id": "3d0b87a8-b32e-480a-9015-12ab8d991cd3",
   "metadata": {
    "editable": true,
    "slideshow": {
     "slide_type": ""
    },
    "tags": []
   },
   "source": [
    "## 查看DataLoader的元素"
   ]
  },
  {
   "cell_type": "code",
   "execution_count": null,
   "id": "ba5380d9-50b5-4972-a1af-ef48524b6593",
   "metadata": {},
   "outputs": [],
   "source": [
    "import torch\n",
    "from torch.utils.data import DataLoader, TensorDataset\n",
    "\n",
    "# 创建示例数据集\n",
    "data = torch.tensor([[1, 2], [3, 4], [5, 6], [7, 8]], dtype=torch.float32)\n",
    "labels = torch.tensor([1, 0, 1, 0], dtype=torch.float32)\n",
    "dataset = TensorDataset(data, labels)\n",
    "\n",
    "# 将数据集加载到 DataLoader 中\n",
    "dataloader = DataLoader(dataset, batch_size=2, shuffle=True)\n",
    "\n",
    "# 查看 DataLoader 中的具体元素\n",
    "for batch_idx, (data, labels) in enumerate(dataloader):\n",
    "    print(f\"Batch {batch_idx + 1}:\")\n",
    "    print(\"Data:\")\n",
    "    print(data)\n",
    "    print(\"Labels:\")\n",
    "    print(labels)\n",
    "    print()"
   ]
  },
  {
   "cell_type": "markdown",
   "id": "e869a627-dfb1-4b4e-ab62-31d84cd8cccc",
   "metadata": {},
   "source": [
    "## 查看数据集元素个数"
   ]
  },
  {
   "cell_type": "code",
   "execution_count": null,
   "id": "6062e7f7-d137-4d01-9d42-2626ed8d0f6f",
   "metadata": {},
   "outputs": [],
   "source": [
    "要查看 `train_loader` 中总共有多少个元素（即总共有多少个批次），可以使用以下几种方法：\n",
    "\n",
    "### 方法一：使用 `len` 函数\n",
    "\n",
    "`len(train_loader)` 会返回 `train_loader` 中的批次数量。\n",
    "\n",
    "```python\n",
    "num_batches = len(train_loader)\n",
    "print(f'Total number of batches: {num_batches}')\n",
    "```\n",
    "\n",
    "### 方法二：计算总元素数\n",
    "\n",
    "`train_loader.dataset` 提供了数据集对象，可以使用 `len(train_loader.dataset)` 获取数据集中的总样本数，再根据批次大小计算总批次数。\n",
    "\n",
    "```python\n",
    "total_samples = len(train_loader.dataset)\n",
    "batch_size = train_loader.batch_size\n",
    "num_batches = (total_samples + batch_size - 1) // batch_size  # 向上取整\n",
    "print(f'Total number of batches: {num_batches}')\n",
    "```\n",
    "\n",
    "### 方法三：通过迭代计算\n",
    "\n",
    "遍历 `train_loader`，统计总批次数。\n",
    "\n",
    "```python\n",
    "num_batches = 0\n",
    "for batch in train_loader:\n",
    "    num_batches += 1\n",
    "print(f'Total number of batches: {num_batches}')\n",
    "```\n",
    "\n",
    "### 示例代码\n",
    "\n",
    "假设我们已经定义了 `train_loader`，以下是完整的示例代码：\n",
    "\n",
    "```python\n",
    "import torch\n",
    "from torchvision import datasets, transforms\n",
    "from torch.utils.data import DataLoader\n",
    "\n",
    "# 数据预处理和加载\n",
    "transform = transforms.Compose([\n",
    "    transforms.ToTensor(),\n",
    "    transforms.Normalize((0.5,), (0.5,))\n",
    "])\n",
    "\n",
    "train_dataset = datasets.FashionMNIST(root='./data', train=True, download=True, transform=transform)\n",
    "batch_size = 64\n",
    "train_loader = DataLoader(train_dataset, batch_size=batch_size, shuffle=True)\n",
    "\n",
    "# 方法一：使用 len 函数\n",
    "num_batches = len(train_loader)\n",
    "print(f'Total number of batches: {num_batches}')\n",
    "\n",
    "# 方法二：计算总元素数\n",
    "total_samples = len(train_loader.dataset)\n",
    "batch_size = train_loader.batch_size\n",
    "num_batches = (total_samples + batch_size - 1) // batch_size  # 向上取整\n",
    "print(f'Total number of batches: {num_batches}')\n",
    "\n",
    "# 方法三：通过迭代计算\n",
    "num_batches = 0\n",
    "for batch in train_loader:\n",
    "    num_batches += 1\n",
    "print(f'Total number of batches: {num_batches}')\n",
    "```\n",
    "\n",
    "### 总结\n",
    "\n",
    "上述方法都可以用于查看 `train_loader` 中的总批次数。最简单的方法是使用 `len(train_loader)`，它直接返回批次数量。如果需要手动计算，也可以通过总样本数和批次大小进行计算。"
   ]
  },
  {
   "cell_type": "code",
   "execution_count": null,
   "id": "fda895b0-8857-4465-aa48-89fc57dcd251",
   "metadata": {},
   "outputs": [],
   "source": []
  },
  {
   "cell_type": "code",
   "execution_count": null,
   "id": "43f6e1e5-72a4-43ed-a2e2-f4bcf0b4d48e",
   "metadata": {},
   "outputs": [],
   "source": []
  },
  {
   "cell_type": "code",
   "execution_count": null,
   "id": "324d9507-97d9-421e-9781-f2746d91fc4c",
   "metadata": {},
   "outputs": [],
   "source": []
  }
 ],
 "metadata": {
  "kernelspec": {
   "display_name": "Python 3 (ipykernel)",
   "language": "python",
   "name": "python3"
  },
  "language_info": {
   "codemirror_mode": {
    "name": "ipython",
    "version": 3
   },
   "file_extension": ".py",
   "mimetype": "text/x-python",
   "name": "python",
   "nbconvert_exporter": "python",
   "pygments_lexer": "ipython3",
   "version": "3.8.19"
  }
 },
 "nbformat": 4,
 "nbformat_minor": 5
}
