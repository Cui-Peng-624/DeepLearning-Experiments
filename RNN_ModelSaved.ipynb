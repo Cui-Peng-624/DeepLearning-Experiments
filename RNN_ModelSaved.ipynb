{
 "cells": [
  {
   "cell_type": "code",
   "execution_count": 1,
   "id": "f96ae05f-6e17-43aa-b2a7-f1634277a1a0",
   "metadata": {
    "editable": true,
    "slideshow": {
     "slide_type": ""
    },
    "tags": []
   },
   "outputs": [],
   "source": [
    "import torch\n",
    "import torch.nn as nn\n",
    "import torch.optim as optim\n",
    "import numpy as np\n",
    "import os\n",
    "from visualization import TrainingVisualizer"
   ]
  },
  {
   "cell_type": "code",
   "execution_count": 2,
   "id": "cebc85d4-3c7c-4851-9382-fdba7cc3c565",
   "metadata": {},
   "outputs": [
    {
     "name": "stdout",
     "output_type": "stream",
     "text": [
      "Using device: cuda\n"
     ]
    }
   ],
   "source": [
    "# 检查GPU是否可用\n",
    "device = torch.device(\"cuda\" if torch.cuda.is_available() else \"cpu\")\n",
    "print(f\"Using device: {device}\")\n",
    "\n",
    "# 加载文本数据\n",
    "with open('data/time_machine_txt/timemachine.txt', 'r') as f:\n",
    "    text = f.read()\n",
    "\n",
    "# 创建字符映射表\n",
    "chars = sorted(list(set(text)))\n",
    "char_to_idx = {ch: idx for idx, ch in enumerate(chars)}\n",
    "idx_to_char = {idx: ch for idx, ch in enumerate(chars)}\n",
    "\n",
    "# 转换文本为索引\n",
    "text_as_int = np.array([char_to_idx[c] for c in text])"
   ]
  },
  {
   "cell_type": "code",
   "execution_count": 9,
   "id": "3a7903f0-74dd-46b9-b674-17a4fdfa4005",
   "metadata": {},
   "outputs": [],
   "source": [
    "# 定义超参数\n",
    "seq_length = 100  # 序列长度 - 一个句子100个单词\n",
    "batch_size = 256\n",
    "hidden_size = 256\n",
    "embedding_dim = 64  # input_size 嵌入向量的大小\n",
    "num_layers = 1\n",
    "learning_rate = 0.001\n",
    "num_epochs = 10\n",
    "vocab_size = len(chars)  # 字符的个数\n",
    "\n",
    "def create_dataset(text_as_int, seq_length, batch_size):\n",
    "    sequences = []\n",
    "    targets = []\n",
    "    for i in range(0, len(text_as_int) - seq_length):\n",
    "        sequences.append(text_as_int[i:i + seq_length])\n",
    "        targets.append(text_as_int[i + 1:i + seq_length + 1])\n",
    "    sequences = torch.tensor(sequences, dtype=torch.long)\n",
    "    targets = torch.tensor(targets, dtype=torch.long)\n",
    "    dataset = torch.utils.data.TensorDataset(sequences, targets)\n",
    "    dataloader = torch.utils.data.DataLoader(dataset, batch_size=batch_size, shuffle=True)\n",
    "    return dataloader\n",
    "\n",
    "dataloader = create_dataset(text_as_int, seq_length, batch_size)"
   ]
  },
  {
   "cell_type": "code",
   "execution_count": 10,
   "id": "cb01ab70-f77f-447d-98ce-80024cc12291",
   "metadata": {},
   "outputs": [],
   "source": [
    "# 定义RNN模型\n",
    "class RNNModel(nn.Module):\n",
    "    def __init__(self, vocab_size, embedding_dim, hidden_size, num_layers):\n",
    "        super(RNNModel, self).__init__()\n",
    "        self.embedding = nn.Embedding(vocab_size, embedding_dim)\n",
    "        self.rnn = nn.RNN(embedding_dim, hidden_size, num_layers, batch_first=True)\n",
    "        self.fc = nn.Linear(hidden_size, vocab_size)\n",
    "\n",
    "    def forward(self, x, hidden):\n",
    "        x = self.embedding(x)\n",
    "        out, hidden = self.rnn(x, hidden)\n",
    "        out = out.contiguous().view(-1, hidden.size(2))\n",
    "        out = self.fc(out)\n",
    "        return out, hidden\n",
    "\n",
    "    def init_hidden(self, batch_size):\n",
    "        # return torch.zeros(num_layers, batch_size, hidden_size).to(device)\n",
    "        # 使用均匀分布初始化\n",
    "        # return torch.randn(self.num_layers, batch_size, self.hidden_size).to(device)\n",
    "        return torch.randn(num_layers, batch_size, hidden_size).to(device)"
   ]
  },
  {
   "cell_type": "code",
   "execution_count": 11,
   "id": "138581d2-e8d7-46fa-8536-7eb53d010332",
   "metadata": {
    "editable": true,
    "slideshow": {
     "slide_type": ""
    },
    "tags": []
   },
   "outputs": [
    {
     "data": {
      "image/png": "[encoded data removed]",
      "text/plain": [
       "<Figure size 700x500 with 1 Axes>"
      ]
     },
     "metadata": {},
     "output_type": "display_data"
    }
   ],
   "source": [
    "num_epochs = 20\n",
    "\n",
    "# 实例化模型\n",
    "model = RNNModel(vocab_size, embedding_dim, hidden_size, num_layers).to(device)\n",
    "criterion = nn.CrossEntropyLoss()\n",
    "optimizer = optim.Adam(model.parameters(), lr=learning_rate)\n",
    "visualizer = TrainingVisualizer(xlabel='Epoch', ylabel='Value', title='Train RNN in Time_Machine', legend=['Train Loss', 'Perplexity'])  # 实例化TrainingVisualizer\n",
    "\n",
    "# 训练模型并计算困惑度\n",
    "for epoch in range(num_epochs):\n",
    "    total_loss = 0\n",
    "    for i, (inputs, targets) in enumerate(dataloader):\n",
    "        current_batch_size = inputs.size(0)\n",
    "        inputs = inputs.view(current_batch_size, -1).to(device)\n",
    "        targets = targets.view(-1).to(device)\n",
    "\n",
    "        optimizer.zero_grad()\n",
    "        hidden = model.init_hidden(current_batch_size).detach() # 这里调用init_hidden()初始化hidden全为0，这似乎并不是那么好\n",
    "        output, hidden = model(inputs, hidden)\n",
    "        loss = criterion(output, targets)\n",
    "        loss.backward()\n",
    "        optimizer.step()\n",
    "\n",
    "        total_loss += loss.item()\n",
    "\n",
    "    # 记录每个epoch的平均损失和困惑度\n",
    "    avg_loss = total_loss / len(dataloader)\n",
    "    perplexity = torch.exp(torch.tensor(avg_loss))\n",
    "    print(f'Epoch [{epoch+1}/{num_epochs}], Loss: {avg_loss:.4f}, Perplexity: {perplexity:.4f}')\n",
    "\n",
    "    # 更新可视化\n",
    "    visualizer.add(epoch, [avg_loss, perplexity.item()])"
   ]
  },
  {
   "cell_type": "code",
   "execution_count": 12,
   "id": "61f75dc2-0abc-4280-9295-56ceab8de842",
   "metadata": {},
   "outputs": [
    {
     "data": {
      "text/plain": [
       "RNNModel(\n",
       "  (embedding): Embedding(70, 64)\n",
       "  (rnn): RNN(64, 256, batch_first=True)\n",
       "  (fc): Linear(in_features=256, out_features=70, bias=True)\n",
       ")"
      ]
     },
     "execution_count": 12,
     "metadata": {},
     "output_type": "execute_result"
    }
   ],
   "source": [
    "model"
   ]
  },
  {
   "cell_type": "code",
   "execution_count": null,
   "id": "1ea22617-3d7c-4a7a-8e5b-a4a6008a720a",
   "metadata": {},
   "outputs": [],
   "source": []
  },
  {
   "cell_type": "code",
   "execution_count": null,
   "id": "c6e1ccce-93d1-41a0-8d92-11b529a49da3",
   "metadata": {},
   "outputs": [],
   "source": []
  },
  {
   "cell_type": "code",
   "execution_count": null,
   "id": "58a5a367-385f-4100-8d15-03f582fa4551",
   "metadata": {},
   "outputs": [],
   "source": [
    "# 确保文件夹存在且可写\n",
    "def ensure_dir(path):\n",
    "    if not os.path.exists(path):\n",
    "        os.makedirs(path)\n",
    "    # 设置文件夹权限为可读写（仅对Unix系统有效，Windows系统无需此步骤）\n",
    "    os.chmod(path, 0o777)\n",
    "\n",
    "# 保存模型和优化器状态\n",
    "def save_checkpoint(model, optimizer, epoch, model_path='checkpoints/RNN/rnn_model.pth', optimizer_path='checkpoints/RNN/optimizer.pth'):\n",
    "    ensure_dir(os.path.dirname(model_path))\n",
    "    ensure_dir(os.path.dirname(optimizer_path))\n",
    "    \n",
    "    torch.save({\n",
    "        'epoch': epoch,\n",
    "        'model_state_dict': model.state_dict(),\n",
    "        'optimizer_state_dict': optimizer.state_dict(),\n",
    "    }, model_path)\n",
    "    print(f'Model and optimizer states saved to {model_path} and {optimizer_path}.')\n",
    "\n",
    "# 加载模型和优化器状态\n",
    "def load_checkpoint(model, optimizer, model_path='checkpoints/RNN/rnn_model.pth', optimizer_path='checkpoints/RNN/optimizer.pth'):\n",
    "    checkpoint = torch.load(model_path)\n",
    "    model.load_state_dict(checkpoint['model_state_dict'])\n",
    "    optimizer.load_state_dict(checkpoint['optimizer_state_dict'])\n",
    "    epoch = checkpoint['epoch']\n",
    "    print(f'Loaded model and optimizer states from {model_path} and {optimizer_path}, starting from epoch {epoch}.')\n",
    "    return model, optimizer, epoch"
   ]
  },
  {
   "cell_type": "code",
   "execution_count": null,
   "id": "5c5d7822-b092-4728-92a7-5a17084562cf",
   "metadata": {},
   "outputs": [],
   "source": [
    "# 保存模型和优化器状态\n",
    "save_checkpoint(model, optimizer, num_epochs)"
   ]
  },
  {
   "cell_type": "code",
   "execution_count": null,
   "id": "68a03ecf-d637-445d-bb82-b25c716a6b21",
   "metadata": {},
   "outputs": [],
   "source": [
    "# 加载模型和优化器状态\n",
    "model, optimizer, start_epoch = load_checkpoint(model, optimizer)"
   ]
  },
  {
   "cell_type": "code",
   "execution_count": null,
   "id": "bc24bbb8-f90d-4777-91fb-4a265bdda2bf",
   "metadata": {},
   "outputs": [],
   "source": []
  },
  {
   "cell_type": "markdown",
   "id": "24ff040c-c0ee-4b32-8468-5aa3f92158e5",
   "metadata": {},
   "source": [
    "### 接着训练"
   ]
  },
  {
   "cell_type": "code",
   "execution_count": null,
   "id": "52747ade-6aaa-4eb1-8bba-bbc3345979ae",
   "metadata": {
    "editable": true,
    "slideshow": {
     "slide_type": ""
    },
    "tags": []
   },
   "outputs": [],
   "source": [
    "num_epochs = 3\n",
    "\n",
    "# 训练模型并计算困惑度\n",
    "for epoch in range(num_epochs):\n",
    "    total_loss = 0\n",
    "    for i, (inputs, targets) in enumerate(dataloader):\n",
    "        current_batch_size = inputs.size(0)\n",
    "        inputs = inputs.view(current_batch_size, -1).to(device)\n",
    "        targets = targets.view(-1).to(device)\n",
    "\n",
    "        optimizer.zero_grad()\n",
    "        hidden = model.init_hidden(current_batch_size).detach()\n",
    "        output, hidden = model(inputs, hidden)\n",
    "        loss = criterion(output, targets)\n",
    "        loss.backward()\n",
    "        optimizer.step()\n",
    "\n",
    "        total_loss += loss.item()\n",
    "\n",
    "    # 记录每个epoch的平均损失和困惑度\n",
    "    avg_loss = total_loss / len(dataloader)\n",
    "    perplexity = torch.exp(torch.tensor(avg_loss))\n",
    "    print(f'Epoch [{epoch+1}/{num_epochs}], Loss: {avg_loss:.4f}, Perplexity: {perplexity:.4f}')\n",
    "\n",
    "    # 更新可视化\n",
    "    visualizer.add(epoch+3, [avg_loss, perplexity.item()])"
   ]
  },
  {
   "cell_type": "code",
   "execution_count": 13,
   "id": "eca93b23-4286-434a-9361-526bc380a964",
   "metadata": {},
   "outputs": [
    {
     "name": "stdout",
     "output_type": "stream",
     "text": [
      "Filby became pensive. The decay the same wined. I felt the conditions of the laboratory was still more myself from the con\n"
     ]
    }
   ],
   "source": [
    "# 生成文本\n",
    "def generate_text(model, start_str, length):\n",
    "    model.eval()\n",
    "    hidden = model.init_hidden(1)\n",
    "    input = torch.tensor([char_to_idx[ch] for ch in start_str], dtype=torch.long).unsqueeze(0).to(device)\n",
    "\n",
    "    generated_text = start_str\n",
    "    for _ in range(length):\n",
    "        output, hidden = model(input, hidden)\n",
    "        _, top_idx = torch.topk(output[-1], 1)\n",
    "        next_char = idx_to_char[top_idx.item()]\n",
    "        generated_text += next_char\n",
    "        input = torch.tensor([[top_idx]], dtype=torch.long).to(device)\n",
    "    \n",
    "    return generated_text\n",
    "\n",
    "# 生成文本示例\n",
    "start_str = \"Filby became pensive. \"\n",
    "generated_text = generate_text(model, start_str, 100)\n",
    "print(generated_text)"
   ]
  },
  {
   "cell_type": "code",
   "execution_count": null,
   "id": "94843097-754b-481f-a355-17a531a7da60",
   "metadata": {},
   "outputs": [],
   "source": []
  },
  {
   "cell_type": "code",
   "execution_count": null,
   "id": "d20113c5-6c50-441a-8468-1a0be71ddbfb",
   "metadata": {},
   "outputs": [],
   "source": []
  },
  {
   "cell_type": "code",
   "execution_count": null,
   "id": "9b198ce5-8373-4359-a3a3-f196e3d873cd",
   "metadata": {},
   "outputs": [],
   "source": []
  },
  {
   "cell_type": "code",
   "execution_count": null,
   "id": "d4a33377-2e66-4102-80bc-6445e85f7843",
   "metadata": {},
   "outputs": [],
   "source": []
  },
  {
   "cell_type": "code",
   "execution_count": null,
   "id": "965a0507-e8b5-4eb3-a77c-5a6f51e26a56",
   "metadata": {},
   "outputs": [],
   "source": [
    "# 保存模型\n",
    "torch.save(model.state_dict(), 'checkpoints/RNN/rnn_model.pth')\n",
    "torch.save(optimizer.state_dict(), 'checkpoints/RNN/optimizer.pth')"
   ]
  },
  {
   "cell_type": "code",
   "execution_count": null,
   "id": "4f410838-451e-45eb-bf12-6aeef8d4ea34",
   "metadata": {
    "editable": true,
    "slideshow": {
     "slide_type": ""
    },
    "tags": []
   },
   "outputs": [],
   "source": [
    "# 加载模型\n",
    "def load_model(model, optimizer):\n",
    "    model.load_state_dict(torch.load('rnn_model.pth'))\n",
    "    optimizer.load_state_dict(torch.load('optimizer.pth'))\n",
    "    model.to(device)\n",
    "    return model, optimizer"
   ]
  },
  {
   "cell_type": "code",
   "execution_count": null,
   "id": "110136ee-6023-4eb4-9d96-d562241ef20a",
   "metadata": {},
   "outputs": [],
   "source": []
  }
 ],
 "metadata": {
  "kernelspec": {
   "display_name": "Python 3 (ipykernel)",
   "language": "python",
   "name": "python3"
  },
  "language_info": {
   "codemirror_mode": {
    "name": "ipython",
    "version": 3
   },
   "file_extension": ".py",
   "mimetype": "text/x-python",
   "name": "python",
   "nbconvert_exporter": "python",
   "pygments_lexer": "ipython3",
   "version": "3.8.19"
  }
 },
 "nbformat": 4,
 "nbformat_minor": 5
}
