{
 "cells": [
  {
   "cell_type": "code",
   "execution_count": 1,
   "id": "f185d673-763e-4ea0-9766-e3d93d56bcb2",
   "metadata": {},
   "outputs": [],
   "source": [
    "%matplotlib inline\n",
    "import math\n",
    "import torch\n",
    "import torch.nn.functional as F\n",
    "from torch import nn\n",
    "import numpy as np\n",
    "import os\n",
    "import re\n",
    "from collections import Counter\n",
    "import numpy as np\n",
    "from visualization import TrainingVisualizer"
   ]
  },
  {
   "cell_type": "code",
   "execution_count": 2,
   "id": "fcc210b4-a60e-4d6b-955b-b0faf059f40b",
   "metadata": {},
   "outputs": [
    {
     "name": "stdout",
     "output_type": "stream",
     "text": [
      "Using device: cuda\n"
     ]
    }
   ],
   "source": [
    "# 检查GPU是否可用\n",
    "device = torch.device(\"cuda\" if torch.cuda.is_available() else \"cpu\")\n",
    "print(f\"Using device: {device}\")"
   ]
  },
  {
   "cell_type": "code",
   "execution_count": 3,
   "id": "7a3dd4fc-4fa9-4180-9ee3-99247cd04ef8",
   "metadata": {},
   "outputs": [
    {
     "name": "stdout",
     "output_type": "stream",
     "text": [
      "Unique characters: 27\n",
      "Character to Index mapping: {'\\n': 0, ' ': 1, '_': 2, 'a': 3, 'b': 4, 'c': 5, 'd': 6, 'e': 7, 'f': 8, 'g': 9, 'h': 10, 'i': 11, 'k': 12, 'l': 13, 'm': 14, 'n': 15, 'o': 16, 'p': 17, 'r': 18, 's': 19, 't': 20, 'u': 21, 'v': 22, 'w': 23, 'x': 24, 'y': 25, '<unk>': 26}\n",
      "First 100 characters as indices: [20 10  7  1 20 11 14  7  1 14]\n"
     ]
    }
   ],
   "source": [
    "# 设置阈值\n",
    "threshold = 5\n",
    "\n",
    "# 加载文本数据\n",
    "with open('data/time_machine_txt/timemachine.txt', 'r') as f:\n",
    "    text = f.read()\n",
    "\n",
    "# 将所有字符转换为小写\n",
    "text = text.lower()\n",
    "\n",
    "# 移除所有标点符号\n",
    "text = re.sub(r'[^\\w\\s]', '', text)  # 仅保留字母、数字和空格\n",
    "# 截取前 n 个字符\n",
    "n = 3000\n",
    "text = text[:n]\n",
    "\n",
    "# 计算字符的词频\n",
    "char_counts = Counter(text)\n",
    "\n",
    "# 创建字符映射表，保留词频不低于阈值的字符，其他字符设为<unk>\n",
    "chars = sorted([ch for ch, count in char_counts.items() if count >= threshold])\n",
    "chars.append('<unk>')  # 添加<unk>标记\n",
    "\n",
    "char_to_idx = {ch: idx for idx, ch in enumerate(chars)}\n",
    "idx_to_char = {idx: ch for idx, ch in enumerate(chars)}\n",
    "unk_idx = char_to_idx['<unk>']\n",
    "\n",
    "# 转换文本为索引，如果字符词频低于阈值，则转换为<unk>\n",
    "text_as_int = np.array([char_to_idx.get(c, unk_idx) for c in text])\n",
    "\n",
    "# 打印结果示例\n",
    "print(\"Unique characters:\", len(chars))\n",
    "print(\"Character to Index mapping:\", char_to_idx)\n",
    "print(\"First 100 characters as indices:\", text_as_int[:10])"
   ]
  },
  {
   "cell_type": "code",
   "execution_count": 4,
   "id": "d6d93e36-920d-41e6-bb5b-95ef8a9883e0",
   "metadata": {},
   "outputs": [],
   "source": [
    "# 定义超参数\n",
    "vocab_size = len(chars)  # 字符的个数\n",
    "seq_size = 50  # 序列长度 - 一个句子100个单词\n",
    "batch_size = 128\n",
    "hidden_size = 256\n",
    "embedding_size = 64  # input_size 嵌入向量的大小\n",
    "num_layers = 1\n",
    "lr = 10\n",
    "num_epochs = 50000"
   ]
  },
  {
   "cell_type": "code",
   "execution_count": 5,
   "id": "16e33f74-94bd-4a95-8a68-67ab8f57176b",
   "metadata": {},
   "outputs": [
    {
     "name": "stderr",
     "output_type": "stream",
     "text": [
      "C:\\Users\\20703\\AppData\\Local\\Temp\\ipykernel_15980\\833452756.py:7: UserWarning: Creating a tensor from a list of numpy.ndarrays is extremely slow. Please consider converting the list to a single numpy.ndarray with numpy.array() before converting to a tensor. (Triggered internally at C:\\cb\\pytorch_1000000000000\\work\\torch\\csrc\\utils\\tensor_new.cpp:277.)\n",
      "  sequences = torch.tensor(sequences, dtype=torch.long)\n"
     ]
    }
   ],
   "source": [
    "def create_dataset(text_as_int, seq_size, batch_size):\n",
    "    sequences = []\n",
    "    targets = []\n",
    "    for i in range(0, len(text_as_int) - seq_size):\n",
    "        sequences.append(text_as_int[i:i + seq_size])\n",
    "        targets.append(text_as_int[i + 1:i + seq_size + 1])\n",
    "    sequences = torch.tensor(sequences, dtype=torch.long)\n",
    "    targets = torch.tensor(targets, dtype=torch.long)\n",
    "    dataset = torch.utils.data.TensorDataset(sequences, targets)\n",
    "    dataloader = torch.utils.data.DataLoader(dataset, batch_size=batch_size, shuffle=True, drop_last=True)\n",
    "    return dataloader\n",
    "\n",
    "dataloader = create_dataset(text_as_int, seq_size, batch_size)"
   ]
  },
  {
   "cell_type": "code",
   "execution_count": 6,
   "id": "8117f779-5721-4a4f-9786-fcbe7c8e9184",
   "metadata": {},
   "outputs": [],
   "source": [
    "def initialize_LSTM_Wb(embedding_size, hidden_size, vocab_size, device):\n",
    "    \"\"\"\n",
    "    hidden_size：神经元个数\n",
    "    # X's size: (batch_size, seq_size, vocab_size) -> (seq_size, batch_size, vocab_size) -> (seq_size, batch_size, embedding_size)\n",
    "    但注意：这里我们需要的X的维度：(batch_size, embedding_size)\n",
    "    # H = torch.normal(0, 1, (batch_size, hidden_size))\n",
    "    \"\"\"\n",
    "    # 输入门 I\n",
    "    W_xi =  torch.normal(0, 1, (embedding_size, hidden_size), device = device) * 0.01\n",
    "    W_hi = torch.normal(0, 1, (hidden_size, hidden_size), device = device) * 0.01\n",
    "    b_i = torch.zeros((1, hidden_size), device = device) # 注意这里的偏置项是加在神经元上，不是batch_size*hidden_size\n",
    "\n",
    "    # 遗忘门 F\n",
    "    W_xf =  torch.normal(0, 1, (embedding_size, hidden_size), device = device) * 0.01\n",
    "    W_hf = torch.normal(0, 1, (hidden_size, hidden_size), device = device) * 0.01\n",
    "    b_f = torch.zeros((1, hidden_size), device = device) \n",
    "\n",
    "    # 输出门 O\n",
    "    W_xo =  torch.normal(0, 1, (embedding_size, hidden_size), device = device) * 0.01\n",
    "    W_ho = torch.normal(0, 1, (hidden_size, hidden_size), device = device) * 0.01\n",
    "    b_o = torch.zeros((1, hidden_size), device = device) \n",
    "    \n",
    "    # 候选记忆元 tilde_C\n",
    "    W_xc = torch.normal(0, 1, (embedding_size, hidden_size), device = device) * 0.01\n",
    "    W_hc = torch.normal(0, 1, (hidden_size, hidden_size), device = device) * 0.01\n",
    "    b_c = torch.zeros((1, hidden_size), device = device)\n",
    "\n",
    "    # 输出层参数\n",
    "    W_hq = torch.normal(0, 1, (hidden_size, vocab_size), device = device) * 0.01\n",
    "    b_q = torch.zeros((1, vocab_size), device = device)\n",
    "\n",
    "    # 附加梯度\n",
    "    I_params = [W_xi, W_hi, b_i]\n",
    "    F_params = [W_xf, W_hf, b_f]\n",
    "    O_params = [W_xo, W_ho, b_o]\n",
    "    C_params = [W_xc, W_hc, b_c]\n",
    "    Output_layer_params = [W_hq, b_q]\n",
    "    params = [I_params, F_params, O_params, C_params, Output_layer_params]\n",
    "    for i_param in params:\n",
    "        for param in i_param:\n",
    "            param.requires_grad_(True)\n",
    "    \n",
    "    return params"
   ]
  },
  {
   "cell_type": "code",
   "execution_count": 7,
   "id": "d317151a-5ec6-47ff-9d52-6f5be74b888e",
   "metadata": {},
   "outputs": [],
   "source": [
    "# 定义一个函数初始化隐变量H\n",
    "def initialize_LSTM_HC(batch_size, hidden_size, device):\n",
    "    H = torch.zeros((batch_size, hidden_size), device = device)\n",
    "    C = torch.zeros((batch_size, hidden_size), device = device)\n",
    "    return H, C"
   ]
  },
  {
   "cell_type": "code",
   "execution_count": 8,
   "id": "eb03a614-39f6-4066-85c9-8399d17a9957",
   "metadata": {},
   "outputs": [],
   "source": [
    "# 定义矩阵计算\n",
    "def LSTM_calculate(inputs, params, H, C, device): \n",
    "    # inputs的形状：(seq_size，batch_size, embedding_size)\n",
    "    # 需要传入上一个时间步的隐状态H和记忆元C\n",
    "    outputs = []\n",
    "    \n",
    "    I_params, F_params, O_params, C_params, Output_layer_params = params\n",
    "    W_xi, W_hi, b_i = I_params\n",
    "    W_xf, W_hf, b_f = F_params\n",
    "    W_xo, W_ho, b_o = O_params\n",
    "    W_xc, W_hc, b_c = C_params\n",
    "    W_hq, b_q = Output_layer_params\n",
    "    \n",
    "    for X in inputs: # X的形状：(batch_size, embedding_size)\n",
    "        I = torch.sigmoid(torch.mm(X, W_xi) + torch.mm(H, W_hi) + b_i)\n",
    "        F = torch.sigmoid(torch.mm(X, W_xf) + torch.mm(H, W_hf) + b_f)\n",
    "        O = torch.sigmoid(torch.mm(X, W_xo) + torch.mm(H, W_ho) + b_o)\n",
    "        tilde_C = torch.tanh(torch.mm(X, W_xc) + torch.mm(H, W_hc) + b_c)\n",
    "        C = torch.mul(F, C) + torch.mul(I, tilde_C)\n",
    "        H = torch.mul(O, torch.tanh(C)) \n",
    "        O = torch.mm(H, W_hq) + b_q\n",
    "        outputs.append(O) # outputs是每一个时间步的输出 - [tensor(batch_size, vocab_size), tensor(batch_size, vocab_size), ......]\n",
    "        \n",
    "    outputs = torch.stack(outputs)\n",
    "    return outputs, H, C # outputs 的 size：(seq_size, batch_size, vocab_size)；H 的 size：(batch_size, hidden_size)"
   ]
  },
  {
   "cell_type": "code",
   "execution_count": 29,
   "id": "62b3aecb-cc4e-49cd-bd78-f421b3fba408",
   "metadata": {},
   "outputs": [],
   "source": [
    "class LSTMModel(nn.Module):\n",
    "    def __init__(self, embedding_size, hidden_size, vocab_size, initialize_LSTM_Wb, initialize_LSTM_HC, LSTM_calculate, device):\n",
    "        super(LSTMModel, self).__init__()\n",
    "        self.device = device\n",
    "        self.embedding = nn.Embedding(vocab_size, embedding_size)\n",
    "        self.params = initialize_LSTM_Wb(embedding_size, hidden_size, vocab_size, device)\n",
    "        self.initialize_LSTM_HC = initialize_LSTM_HC\n",
    "        self.LSTM_calculate = LSTM_calculate\n",
    "\n",
    "    def forward(self, X, H, C): \n",
    "        # 输入的X的形状为：(batch_size, seq_size)；H的形状为：(batch_size, hidden_size)\n",
    "        X = self.embedding(X) # 此时X的形状变为：(batch_size, seq_size, embedding_size)\n",
    "        X = X.permute(1, 0, 2).to(self.device) # 此时X的形状变为：(seq_size, batch_size, embedding_size)\n",
    "        Y, H, C = self.LSTM_calculate(X, self.params, H, C, self.device)\n",
    "        return Y, H, C # 返回Y的size：(seq_size, batch_size, vocab_size)\n",
    "\n",
    "    def begin_HC(self, batch_size, hidden_size, device):\n",
    "        H, C = self.initialize_LSTM_HC(batch_size, hidden_size, device)\n",
    "        return H, C"
   ]
  },
  {
   "cell_type": "code",
   "execution_count": 30,
   "id": "3b96b402-a1ff-4917-83b4-2c2a4717b9ec",
   "metadata": {},
   "outputs": [],
   "source": [
    "def grad_clipping(net, theta):\n",
    "    \"\"\"裁剪梯度\"\"\"\n",
    "    if isinstance(net, nn.Module):\n",
    "        params = [p for p in net.parameters() if p.requires_grad]\n",
    "    else:\n",
    "        params = net.params\n",
    "    norm = torch.sqrt(sum(torch.sum((p.grad ** 2)) for p in params))\n",
    "    if norm > theta:\n",
    "        for param in params:\n",
    "            param.grad[:] *= theta / norm # 整体进行一个缩放"
   ]
  },
  {
   "cell_type": "code",
   "execution_count": 31,
   "id": "283e8bb5-759c-4fe8-b58a-53f08010acd8",
   "metadata": {},
   "outputs": [],
   "source": [
    "def LSTM_train_epoch(train_iter, model, criterion, optimizer, device):\n",
    "    \"\"\"训练网络一个迭代周期\"\"\"\n",
    "    H = None\n",
    "    C = None\n",
    "    \n",
    "    for X, Y in train_iter: # X，Y的形状：(batch_size, seq_size)\n",
    "        \n",
    "        if H is None and C is  None: # 如果处于第一个迭代周期\n",
    "            H, C = model.begin_HC(X.shape[0], hidden_size, device)\n",
    "        else: \n",
    "            H = H.detach()\n",
    "            C = C.detach()\n",
    "\n",
    "        Y = Y.T # Y的size从(batch_size, seq_size) -> (seq_size, batch_size)\n",
    "        Y_hat, H, C = model(X, H, C) # Y_hat的size：(seq_size, batch_size, vocab_size)\n",
    "        # 为了计算交叉熵损失，我们需要调整Y_hat和Y的size，这也是课本代码中使用reshape的原因\n",
    "        Y_hat = Y_hat.reshape(-1, Y_hat.shape[2]) # size变成：(seq_size*batch_size, vocab_size)\n",
    "        Y = Y.reshape(-1) # 把Y变为一维的张量\n",
    "        Y_hat, Y = Y_hat.to(device), Y.to(device)\n",
    "\n",
    "        optimizer.zero_grad()\n",
    "        # print(Y_hat, Y)\n",
    "        loss = criterion(Y_hat, Y.long()).mean()\n",
    "        loss.backward()\n",
    "        grad_clipping(model, 1)\n",
    "        optimizer.step()\n",
    "\n",
    "        perplexity = math.exp(loss)\n",
    "        \n",
    "    return perplexity"
   ]
  },
  {
   "cell_type": "code",
   "execution_count": 32,
   "id": "9117e3d5-b407-448b-8192-d3af544d1623",
   "metadata": {},
   "outputs": [],
   "source": [
    "def LSTM_train(model, train_iter, lr, num_epochs, device):\n",
    "    \"\"\"训练模型\"\"\"\n",
    "    criterion = nn.CrossEntropyLoss()\n",
    "    optimizer = torch.optim.SGD(model.parameters(), lr)\n",
    "    visualizer = TrainingVisualizer(xlabel='Epoch', ylabel='Perplexity', title='Train LSTM_scratch in Time_Machine', legend=['Perplexity'])  \n",
    "\n",
    "    predict = lambda prefix: text_prediction(prefix, 50, model, device) # 匿名函数，输入prefix预测50个token\n",
    "    \n",
    "    # 训练和预测\n",
    "    for epoch in range(num_epochs):\n",
    "        perplexity = LSTM_train_epoch(train_iter, model, criterion, optimizer, device)\n",
    "        visualizer.add(epoch, [perplexity])"
   ]
  },
  {
   "cell_type": "code",
   "execution_count": null,
   "id": "4bedcc92-470b-4c5b-a18b-09b3571e5a19",
   "metadata": {},
   "outputs": [
    {
     "data": {
      "image/png": "[encoded data removed]",
      "text/plain": [
       "<Figure size 700x500 with 1 Axes>"
      ]
     },
     "metadata": {},
     "output_type": "display_data"
    }
   ],
   "source": [
    "model = LSTMModel(embedding_size, hidden_size, vocab_size, initialize_LSTM_Wb, initialize_LSTM_HC, LSTM_calculate, device)\n",
    "\n",
    "LSTM_train(model, dataloader, lr, num_epochs, device)"
   ]
  },
  {
   "cell_type": "code",
   "execution_count": null,
   "id": "79d35c40-c0b9-4f58-aa53-b69262544653",
   "metadata": {},
   "outputs": [],
   "source": []
  },
  {
   "cell_type": "code",
   "execution_count": null,
   "id": "0f6a99d2-239b-4937-a196-c1a0c59a6fce",
   "metadata": {},
   "outputs": [],
   "source": []
  },
  {
   "cell_type": "code",
   "execution_count": null,
   "id": "6be7eae1-be16-42b2-a9bf-d1d04168d0fe",
   "metadata": {},
   "outputs": [],
   "source": []
  }
 ],
 "metadata": {
  "kernelspec": {
   "display_name": "Python 3 (ipykernel)",
   "language": "python",
   "name": "python3"
  },
  "language_info": {
   "codemirror_mode": {
    "name": "ipython",
    "version": 3
   },
   "file_extension": ".py",
   "mimetype": "text/x-python",
   "name": "python",
   "nbconvert_exporter": "python",
   "pygments_lexer": "ipython3",
   "version": "3.8.19"
  }
 },
 "nbformat": 4,
 "nbformat_minor": 5
}
