{
 "cells": [
  {
   "cell_type": "code",
   "execution_count": 1,
   "id": "595b5899-d72f-4b72-b995-dfcbd4492ee9",
   "metadata": {},
   "outputs": [],
   "source": [
    "import torch\n",
    "import torch.nn as nn\n",
    "import torch.optim as optim\n",
    "import torchvision\n",
    "import torchvision.transforms as transforms\n",
    "from torch.utils.data import DataLoader\n",
    "from torchvision.utils import save_image"
   ]
  },
  {
   "cell_type": "code",
   "execution_count": 2,
   "id": "9cb7e2a4-7698-4ef8-aa7c-13a46319ef48",
   "metadata": {},
   "outputs": [
    {
     "name": "stdout",
     "output_type": "stream",
     "text": [
      "Using device: cuda\n"
     ]
    }
   ],
   "source": [
    "# Set device\n",
    "device = torch.device('cuda' if torch.cuda.is_available() else 'cpu')\n",
    "print(f\"Using device: {device}\")"
   ]
  },
  {
   "cell_type": "code",
   "execution_count": null,
   "id": "80d144ab-29e5-46c5-9f6a-19682dcc0e0a",
   "metadata": {},
   "outputs": [],
   "source": [
    "# 定义生成器\n",
    "class Generator(nn.Module):\n",
    "    def __init__(self):\n",
    "        super(Generator, self).__init__()\n",
    "        self.main = nn.Sequential(\n",
    "            # 输入是 z，形状是 (batch_size, 100, 1, 1)\n",
    "            nn.Linear(100, 1024 * 4 * 4),\n",
    "            nn.BatchNorm1d(1024 * 4 * 4),\n",
    "            nn.ReLU(True),\n",
    "            nn.Unflatten(1, (1024, 4, 4)),\n",
    "            # 上采样到 (1024, 8, 8)\n",
    "            nn.ConvTranspose2d(1024, 512, kernel_size=4, stride=2, padding=1, bias=False),\n",
    "            nn.BatchNorm2d(512),\n",
    "            nn.ReLU(True),\n",
    "            # 上采样到 (512, 16, 16)\n",
    "            nn.ConvTranspose2d(512, 256, kernel_size=4, stride=2, padding=1, bias=False),\n",
    "            nn.BatchNorm2d(256),\n",
    "            nn.ReLU(True),\n",
    "            # 上采样到 (256, 32, 32)\n",
    "            nn.ConvTranspose2d(256, 128, kernel_size=4, stride=2, padding=1, bias=False),\n",
    "            nn.BatchNorm2d(128),\n",
    "            nn.ReLU(True),\n",
    "            # 上采样到 (128, 64, 64)\n",
    "            nn.ConvTranspose2d(128, 3, kernel_size=4, stride=2, padding=1, bias=False),\n",
    "            nn.Tanh()  # 输出范围 [-1, 1]\n",
    "        )\n",
    "\n",
    "    def forward(self, input):\n",
    "        return self.main(input)"
   ]
  },
  {
   "cell_type": "code",
   "execution_count": null,
   "id": "07171304-8148-4e1c-8009-249cf82a9dbe",
   "metadata": {},
   "outputs": [],
   "source": [
    "# 定义鉴别器\n",
    "class Discriminator(nn.Module):\n",
    "    def __init__(self):\n",
    "        super(Discriminator, self).__init__()\n",
    "        self.main = nn.Sequential(\n",
    "            # 输入是图像，形状是 (batch_size, 3, 64, 64)\n",
    "            nn.Conv2d(3, 128, kernel_size=4, stride=2, padding=1, bias=False),\n",
    "            nn.LeakyReLU(0.2, inplace=True),\n",
    "            # 降采样到 (128, 32, 32)\n",
    "            nn.Conv2d(128, 256, kernel_size=4, stride=2, padding=1, bias=False),\n",
    "            nn.BatchNorm2d(256),\n",
    "            nn.LeakyReLU(0.2, inplace=True),\n",
    "            # 降采样到 (256, 16, 16)\n",
    "            nn.Conv2d(256, 512, kernel_size=4, stride=2, padding=1, bias=False),\n",
    "            nn.BatchNorm2d(512),\n",
    "            nn.LeakyReLU(0.2, inplace=True),\n",
    "            # 降采样到 (512, 8, 8)\n",
    "            nn.Conv2d(512, 1024, kernel_size=4, stride=2, padding=1, bias=False),\n",
    "            nn.BatchNorm2d(1024),\n",
    "            nn.LeakyReLU(0.2, inplace=True),\n",
    "            # 降采样到 (1024, 4, 4)\n",
    "            nn.Conv2d(1024, 1, kernel_size=4, stride=1, padding=0, bias=False),\n",
    "            nn.Sigmoid()  # 输出概率\n",
    "        )\n",
    "\n",
    "    def forward(self, input):\n",
    "        return self.main(input).view(-1)"
   ]
  },
  {
   "cell_type": "code",
   "execution_count": null,
   "id": "7251539f-48de-4400-b673-6fe91fbe704b",
   "metadata": {},
   "outputs": [],
   "source": [
    "# 初始化模型\n",
    "netG = Generator().to(device)\n",
    "netD = Discriminator().to(device)\n",
    "\n",
    "# 损失函数和优化器\n",
    "criterion = nn.BCELoss()\n",
    "optimizerD = optim.Adam(netD.parameters(), lr=0.0002, betas=(0.5, 0.999))\n",
    "optimizerG = optim.Adam(netG.parameters(), lr=0.0002, betas=(0.5, 0.999))\n",
    "\n",
    "# 数据集准备\n",
    "transform = transforms.Compose([\n",
    "    transforms.Resize(64),\n",
    "    transforms.ToTensor(),\n",
    "    transforms.Normalize([0.5], [0.5]),\n",
    "])\n",
    "\n",
    "dataset = torchvision.datasets.CIFAR10(root='./data', download=True, transform=transform)\n",
    "dataloader = DataLoader(dataset, batch_size=128, shuffle=True)\n",
    "\n",
    "# 训练过程\n",
    "num_epochs = 25\n",
    "fixed_noise = torch.randn(64, 100, device=device)\n",
    "\n",
    "for epoch in range(num_epochs):\n",
    "    for i, data in enumerate(dataloader, 0):\n",
    "        # 更新鉴别器\n",
    "        netD.zero_grad()\n",
    "        real_images = data[0].to(device)\n",
    "        batch_size = real_images.size(0)\n",
    "        labels = torch.full((batch_size,), 1., dtype=torch.float, device=device)\n",
    "        output = netD(real_images)\n",
    "        errD_real = criterion(output, labels)\n",
    "        errD_real.backward()\n",
    "\n",
    "        noise = torch.randn(batch_size, 100, device=device)\n",
    "        fake_images = netG(noise)\n",
    "        labels.fill_(0.)\n",
    "        output = netD(fake_images.detach())\n",
    "        errD_fake = criterion(output, labels)\n",
    "        errD_fake.backward()\n",
    "        optimizerD.step()\n",
    "\n",
    "        # 更新生成器\n",
    "        netG.zero_grad()\n",
    "        labels.fill_(1.)\n",
    "        output = netD(fake_images)\n",
    "        errG = criterion(output, labels)\n",
    "        errG.backward()\n",
    "        optimizerG.step()\n",
    "\n",
    "        if i % 50 == 0:\n",
    "            print(f'[{epoch}/{num_epochs}][{i}/{len(dataloader)}] '\n",
    "                  f'Loss_D: {errD_real.item() + errD_fake.item():.4f} Loss_G: {errG.item():.4f}')\n",
    "\n",
    "    # 保存生成的图像\n",
    "    with torch.no_grad():\n",
    "        fake_images = netG(fixed_noise).detach().cpu()\n",
    "    save_image(fake_images, f'output/fake_images_epoch_{epoch+1}.png', normalize=True)\n",
    "\n",
    "print(\"Training finished!\")\n"
   ]
  },
  {
   "cell_type": "code",
   "execution_count": null,
   "id": "fb2b0e5b-9757-4e0a-9577-fe4ab9cd7f31",
   "metadata": {},
   "outputs": [],
   "source": []
  },
  {
   "cell_type": "code",
   "execution_count": null,
   "id": "1df96d82-b7af-4f5e-8de7-6e12955480d0",
   "metadata": {},
   "outputs": [],
   "source": []
  },
  {
   "cell_type": "code",
   "execution_count": null,
   "id": "44cda469-4e0d-44a6-a21f-b7b09def815f",
   "metadata": {},
   "outputs": [],
   "source": []
  },
  {
   "cell_type": "code",
   "execution_count": null,
   "id": "7e0c5638-6345-43fd-9c76-6a9df04ab7dd",
   "metadata": {},
   "outputs": [],
   "source": []
  },
  {
   "cell_type": "code",
   "execution_count": null,
   "id": "e5b1ca9e-0776-44fd-a723-15a0aaeafa97",
   "metadata": {},
   "outputs": [],
   "source": []
  },
  {
   "cell_type": "code",
   "execution_count": null,
   "id": "1dbed1f8-1e01-4afc-9306-6e1237ab6057",
   "metadata": {},
   "outputs": [],
   "source": []
  },
  {
   "cell_type": "code",
   "execution_count": null,
   "id": "bb8c140e-aa7b-4245-85bd-33ef52ccf734",
   "metadata": {},
   "outputs": [],
   "source": []
  },
  {
   "cell_type": "code",
   "execution_count": null,
   "id": "c25ce1cf-b26c-428a-b877-9c5716133dee",
   "metadata": {},
   "outputs": [],
   "source": []
  }
 ],
 "metadata": {
  "kernelspec": {
   "display_name": "Python 3 (ipykernel)",
   "language": "python",
   "name": "python3"
  },
  "language_info": {
   "codemirror_mode": {
    "name": "ipython",
    "version": 3
   },
   "file_extension": ".py",
   "mimetype": "text/x-python",
   "name": "python",
   "nbconvert_exporter": "python",
   "pygments_lexer": "ipython3",
   "version": "3.9.19"
  }
 },
 "nbformat": 4,
 "nbformat_minor": 5
}
