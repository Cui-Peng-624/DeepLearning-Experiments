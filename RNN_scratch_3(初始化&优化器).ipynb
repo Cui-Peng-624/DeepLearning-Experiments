{
 "cells": [
  {
   "cell_type": "code",
   "execution_count": 1,
   "id": "27729a7b-870d-4e89-87bc-9d145cb6edd0",
   "metadata": {},
   "outputs": [],
   "source": [
    "%matplotlib inline\n",
    "import math\n",
    "import torch\n",
    "import torch.nn.functional as F\n",
    "from torch import nn\n",
    "import numpy as np\n",
    "import os\n",
    "import re\n",
    "from collections import Counter\n",
    "import numpy as np\n",
    "from visualization import TrainingVisualizer"
   ]
  },
  {
   "cell_type": "code",
   "execution_count": 2,
   "id": "3d5bbdc0-3cb8-4c86-8dba-f7061d5e71b2",
   "metadata": {},
   "outputs": [
    {
     "name": "stdout",
     "output_type": "stream",
     "text": [
      "Using device: cuda\n"
     ]
    }
   ],
   "source": [
    "# 检查GPU是否可用\n",
    "device = torch.device(\"cuda\" if torch.cuda.is_available() else \"cpu\")\n",
    "print(f\"Using device: {device}\")"
   ]
  },
  {
   "cell_type": "code",
   "execution_count": 3,
   "id": "854116f7-9a2b-4d5b-bd9b-7f23da5f0f5f",
   "metadata": {},
   "outputs": [
    {
     "name": "stdout",
     "output_type": "stream",
     "text": [
      "Unique characters: 27\n",
      "Character to Index mapping: {'\\n': 0, ' ': 1, '_': 2, 'a': 3, 'b': 4, 'c': 5, 'd': 6, 'e': 7, 'f': 8, 'g': 9, 'h': 10, 'i': 11, 'k': 12, 'l': 13, 'm': 14, 'n': 15, 'o': 16, 'p': 17, 'r': 18, 's': 19, 't': 20, 'u': 21, 'v': 22, 'w': 23, 'x': 24, 'y': 25, '<unk>': 26}\n",
      "First 100 characters as indices: [20 10  7  1 20 11 14  7  1 14]\n"
     ]
    }
   ],
   "source": [
    "# 设置阈值\n",
    "threshold = 5\n",
    "\n",
    "# 加载文本数据\n",
    "with open('data/time_machine_txt/timemachine.txt', 'r') as f:\n",
    "    text = f.read()\n",
    "\n",
    "# 将所有字符转换为小写\n",
    "text = text.lower()\n",
    "\n",
    "# 移除所有标点符号\n",
    "text = re.sub(r'[^\\w\\s]', '', text)  # 仅保留字母、数字和空格\n",
    "# 截取前 n 个字符\n",
    "n = 3000\n",
    "text = text[:n]\n",
    "\n",
    "# 计算字符的词频\n",
    "char_counts = Counter(text)\n",
    "\n",
    "# 创建字符映射表，保留词频不低于阈值的字符，其他字符设为<unk>\n",
    "chars = sorted([ch for ch, count in char_counts.items() if count >= threshold])\n",
    "chars.append('<unk>')  # 添加<unk>标记\n",
    "\n",
    "char_to_idx = {ch: idx for idx, ch in enumerate(chars)}\n",
    "idx_to_char = {idx: ch for idx, ch in enumerate(chars)}\n",
    "unk_idx = char_to_idx['<unk>']\n",
    "\n",
    "# 转换文本为索引，如果字符词频低于阈值，则转换为<unk>\n",
    "text_as_int = np.array([char_to_idx.get(c, unk_idx) for c in text])\n",
    "\n",
    "# 打印结果示例\n",
    "print(\"Unique characters:\", len(chars))\n",
    "print(\"Character to Index mapping:\", char_to_idx)\n",
    "print(\"First 100 characters as indices:\", text_as_int[:10])"
   ]
  },
  {
   "cell_type": "code",
   "execution_count": 4,
   "id": "2b163d8d-2733-415b-a3b8-ec926d3bcb8c",
   "metadata": {},
   "outputs": [],
   "source": [
    "# 定义超参数\n",
    "vocab_size = len(chars)  # 字符的个数\n",
    "seq_size = 50  # 序列长度 - 一个句子100个单词\n",
    "batch_size = 128\n",
    "hidden_size = 256\n",
    "embedding_size = 64  # input_size 嵌入向量的大小\n",
    "num_layers = 1\n",
    "lr = 0.001\n",
    "num_epochs = 50000"
   ]
  },
  {
   "cell_type": "code",
   "execution_count": 5,
   "id": "ac875984-34a1-4c0c-8198-8ceb32929859",
   "metadata": {},
   "outputs": [
    {
     "name": "stderr",
     "output_type": "stream",
     "text": [
      "C:\\Users\\20703\\AppData\\Local\\Temp\\ipykernel_21720\\833452756.py:7: UserWarning: Creating a tensor from a list of numpy.ndarrays is extremely slow. Please consider converting the list to a single numpy.ndarray with numpy.array() before converting to a tensor. (Triggered internally at C:\\cb\\pytorch_1000000000000\\work\\torch\\csrc\\utils\\tensor_new.cpp:277.)\n",
      "  sequences = torch.tensor(sequences, dtype=torch.long)\n"
     ]
    }
   ],
   "source": [
    "def create_dataset(text_as_int, seq_size, batch_size):\n",
    "    sequences = []\n",
    "    targets = []\n",
    "    for i in range(0, len(text_as_int) - seq_size):\n",
    "        sequences.append(text_as_int[i:i + seq_size])\n",
    "        targets.append(text_as_int[i + 1:i + seq_size + 1])\n",
    "    sequences = torch.tensor(sequences, dtype=torch.long)\n",
    "    targets = torch.tensor(targets, dtype=torch.long)\n",
    "    dataset = torch.utils.data.TensorDataset(sequences, targets)\n",
    "    dataloader = torch.utils.data.DataLoader(dataset, batch_size=batch_size, shuffle=True, drop_last=True)\n",
    "    return dataloader\n",
    "\n",
    "dataloader = create_dataset(text_as_int, seq_size, batch_size)"
   ]
  },
  {
   "cell_type": "code",
   "execution_count": 6,
   "id": "730499f4-a6f7-474f-8ddb-efd89a47f180",
   "metadata": {},
   "outputs": [],
   "source": [
    "def initialize_Wb(embedding_size, hidden_size, vocab_size, device):\n",
    "    \"\"\"\n",
    "    hidden_size：神经元个数\n",
    "    注意：虽然一般的X为(batch_size, seq_size, vocab_size)，但是由于RNN的特性，每次循环是对于一个时间步，所以X的size一般需要转化成(seq_size, batch_size, vocab_size)，\n",
    "    那么每次循环我们需要处理的输入的size就是：(batch_size, vocab_size)；此外，由于我们需要经过一个嵌入层，所以我们实际需要处理的size为：(batch_size, embedding_size)\n",
    "    \"\"\"\n",
    "    # 隐藏层参数\n",
    "    # X's size: (batch_size, seq_size, vocab_size) -> (seq_size, batch_size, vocab_size) -> (seq_size, batch_size, embedding_size)\n",
    "    # W_xh = torch.normal(0, 1, (embedding_size, hidden_size), device = device) * 0.01\n",
    "    W_xh = torch.nn.init.xavier_uniform_(torch.empty(embedding_size, hidden_size, device=device))\n",
    "    # H = torch.normal(0, 1, (batch_size, hidden_size))\n",
    "    # W_hh = torch.normal(0, 1, (hidden_size, hidden_size), device = device) * 0.01\n",
    "    W_hh = torch.nn.init.xavier_uniform_(torch.empty(hidden_size, hidden_size, device=device))\n",
    "    b_h = torch.zeros((1, hidden_size), device = device) # 注意这里的偏置项是加在神经元上，不是batch_size*hidden_size\n",
    "\n",
    "    # 输出层参数\n",
    "    # W_hq = torch.normal(0, 1, (hidden_size, vocab_size), device = device) * 0.01\n",
    "    W_hq = torch.nn.init.xavier_uniform_(torch.empty(hidden_size, vocab_size, device=device))\n",
    "    b_q = torch.zeros((1, vocab_size), device = device)\n",
    "    # 然后经过softmax，得到每个vocab的输出概率？？？\n",
    "\n",
    "    # 附加梯度\n",
    "    params = [W_xh, W_hh, b_h, W_hq, b_q]\n",
    "    for param in params:\n",
    "        param.requires_grad_(True)\n",
    "    \n",
    "    return params"
   ]
  },
  {
   "cell_type": "code",
   "execution_count": 7,
   "id": "19c2b58e-4c54-4d6d-b83f-d56df285fecb",
   "metadata": {},
   "outputs": [],
   "source": [
    "# 定义一个函数初始化隐变量H\n",
    "def initialize_H(batch_size, hidden_size, device):\n",
    "    H = torch.zeros((batch_size, hidden_size), device = device)\n",
    "    return H"
   ]
  },
  {
   "cell_type": "code",
   "execution_count": 8,
   "id": "9c9fb000-8882-448e-a540-fb31a7ba561a",
   "metadata": {},
   "outputs": [],
   "source": [
    "# 定义矩阵计算\n",
    "def RNN_calculate(inputs, params, H, device):\n",
    "    outputs = []\n",
    "    # inputs的形状：(seq_size，batch_size, embedding_size)\n",
    "    W_xh, W_hh, b_h, W_hq, b_q = params\n",
    "    for X in inputs: # X的形状：(batch_size, embedding_size)\n",
    "        H = torch.tanh(torch.mm(X, W_xh) + torch.mm(H, W_hh) + b_h)\n",
    "        O = torch.mm(H, W_hq) + b_q\n",
    "        outputs.append(O) # outputs是每一个时间步的输出 - [tensor(batch_size, vocab_size), tensor(batch_size, vocab_size), ......]\n",
    "        \n",
    "    outputs = torch.stack(outputs)\n",
    "    return outputs, H # outputs 的 size：(seq_size, batch_size, vocab_size)；H 的 size：(batch_size, hidden_size)"
   ]
  },
  {
   "cell_type": "code",
   "execution_count": 9,
   "id": "4133ab70-8203-4f45-8c43-a78ea15447f2",
   "metadata": {},
   "outputs": [],
   "source": [
    "class RNNModel(nn.Module):\n",
    "    def __init__(self, embedding_size, hidden_size, vocab_size, initialize_Wb, initialize_H, RNN_calculate, device):\n",
    "        super(RNNModel, self).__init__()\n",
    "        self.device = device\n",
    "        self.embedding = nn.Embedding(vocab_size, embedding_size)\n",
    "        self.params = initialize_Wb(embedding_size, hidden_size, vocab_size, device)\n",
    "        self.initialize_H = initialize_H\n",
    "        self.RNN_calculate = RNN_calculate\n",
    "\n",
    "    def forward(self, X, H): \n",
    "        # 输入的X的形状为：(batch_size, seq_size)；H的形状为：(batch_size, hidden_size)\n",
    "        X = self.embedding(X) # 此时X的形状变为：(batch_size, seq_size, embedding_size)\n",
    "        X = X.permute(1, 0, 2).to(self.device) # 此时X的形状变为：(seq_size, batch_size, embedding_size)\n",
    "        Y, H = self.RNN_calculate(X, self.params, H, self.device)\n",
    "        return Y, H # 返回Y的size：(seq_size, batch_size, vocab_size)\n",
    "\n",
    "    def begin_H(self, batch_size, hidden_size, device):\n",
    "        return self.initialize_H(batch_size, hidden_size, device)"
   ]
  },
  {
   "cell_type": "code",
   "execution_count": 10,
   "id": "592b7004-cfbc-4a91-9e66-371084a5aa15",
   "metadata": {},
   "outputs": [],
   "source": [
    "def text_prediction(prefix, num_preds, net, device):\n",
    "    \"\"\"在prefix后面生成新字符\"\"\"\n",
    "    H =  net.begin_H(1, hidden_size, device) # def begin_H(self, batch_size, hidden_size, device):\n",
    "    outputs = [char_to_idx[prefix[0]]] # 初始化为第一个字符的数字表示\n",
    "    \n",
    "    # 定义一个匿名函数（lambda 函数）。从变量 outputs 的最后一个元素创建一个新的张量，并将其形状调整为 (1, 1)。\n",
    "    get_input = lambda: torch.tensor([outputs[-1]]).reshape((1, 1))\n",
    "    \n",
    "    for char in prefix[1:]:  # 预热期 - 逐渐把outputs中的元素添加进model，更新H - 看看H的计算公式，理解是如何更新H的\n",
    "        _, H = net(get_input(), H)\n",
    "        outputs.append(char_to_idx[char])\n",
    "    # 到这里，outputs为prefix每个字母转化为它的数字表示的一维list\n",
    "     \n",
    "    for _ in range(num_preds):  # 预测num_preds步\n",
    "        Y, H = net(get_input(), H) # # 返回Y的size：(seq_size, batch_size, vocab_size)\n",
    "        # print(Y.argmax(dim=2).reshape(1))\n",
    "        outputs.append(int(Y.argmax(dim=2).reshape(1)))\n",
    "    return ''.join([idx_to_char[i] for i in outputs])"
   ]
  },
  {
   "cell_type": "code",
   "execution_count": 11,
   "id": "ca801a29-b6c9-4411-af11-9b368977e00a",
   "metadata": {},
   "outputs": [],
   "source": [
    "def grad_clipping(net, theta):\n",
    "    \"\"\"裁剪梯度\"\"\"\n",
    "    if isinstance(net, nn.Module):\n",
    "        params = [p for p in net.parameters() if p.requires_grad]\n",
    "    else:\n",
    "        params = net.params\n",
    "    norm = torch.sqrt(sum(torch.sum((p.grad ** 2)) for p in params))\n",
    "    if norm > theta:\n",
    "        for param in params:\n",
    "            param.grad[:] *= theta / norm # 整体进行一个缩放"
   ]
  },
  {
   "cell_type": "code",
   "execution_count": 12,
   "id": "4ffa190b-26a4-4027-b9d0-39c06ee87c32",
   "metadata": {},
   "outputs": [],
   "source": [
    "def RNN_train_epoch(train_iter, model, criterion, optimizer, device):\n",
    "    \"\"\"训练网络一个迭代周期\"\"\"\n",
    "    H = None\n",
    "    \n",
    "    for X, Y in train_iter: # X，Y的形状：(batch_size, seq_size)\n",
    "        \n",
    "        if H is None: # 如果处于第一个迭代周期\n",
    "            H = model.begin_H(X.shape[0], hidden_size, device)\n",
    "        else: \n",
    "            H = H.detach()\n",
    "\n",
    "        Y = Y.T # Y的size从(batch_size, seq_size) -> (seq_size, batch_size)\n",
    "        Y_hat, H = model(X, H) # Y_hat的size：(seq_size, batch_size, vocab_size)\n",
    "        # 为了计算交叉熵损失，我们需要调整Y_hat和Y的size，这也是课本代码中使用reshape的原因\n",
    "        Y_hat = Y_hat.reshape(-1, Y_hat.shape[2]) # size变成：(seq_size*batch_size, vocab_size)\n",
    "        Y = Y.reshape(-1) # 把Y变为一维的张量\n",
    "        Y_hat, Y = Y_hat.to(device), Y.to(device)\n",
    "\n",
    "        optimizer.zero_grad()\n",
    "        # print(Y_hat, Y)\n",
    "        loss = criterion(Y_hat, Y.long()).mean()\n",
    "        loss.backward()\n",
    "        grad_clipping(model, 1)\n",
    "        optimizer.step()\n",
    "\n",
    "        perplexity = math.exp(loss)\n",
    "        \n",
    "    return perplexity"
   ]
  },
  {
   "cell_type": "code",
   "execution_count": 13,
   "id": "7cc83397-af31-4263-b73b-6c9291fd7211",
   "metadata": {},
   "outputs": [],
   "source": [
    "def RNN_train(model, train_iter, lr, num_epochs, device):\n",
    "    \"\"\"训练模型\"\"\"\n",
    "    criterion = nn.CrossEntropyLoss()\n",
    "    # optimizer = torch.optim.SGD(model.parameters(), lr)\n",
    "    optimizer = torch.optim.Adam(model.parameters(), lr)  # 使用Adam优化器\n",
    "    visualizer = TrainingVisualizer(xlabel='Epoch', ylabel='Perplexity', title='Train RNN_scratch in Time_Machine', legend=['Perplexity'])  \n",
    "\n",
    "    predict = lambda prefix: text_prediction(prefix, 50, model, device) # 匿名函数，输入prefix预测50个token\n",
    "    \n",
    "    # 训练和预测\n",
    "    for epoch in range(num_epochs):\n",
    "        perplexity = RNN_train_epoch(train_iter, model, criterion, optimizer, device)\n",
    "        visualizer.add(epoch, [perplexity])\n",
    "             \n",
    "    # print(predict('time traveller'))\n",
    "    # print(predict('traveller'))"
   ]
  },
  {
   "cell_type": "code",
   "execution_count": null,
   "id": "d8409949-97b0-43f2-8438-0413e53cb7e9",
   "metadata": {},
   "outputs": [
    {
     "data": {
      "image/png": "[encoded data removed]",
      "text/plain": [
       "<Figure size 700x500 with 1 Axes>"
      ]
     },
     "metadata": {},
     "output_type": "display_data"
    }
   ],
   "source": [
    "model = RNNModel(embedding_size, hidden_size, vocab_size, initialize_Wb, initialize_H, RNN_calculate, device)\n",
    "\n",
    "RNN_train(model, dataloader, lr, num_epochs, device)"
   ]
  },
  {
   "cell_type": "code",
   "execution_count": null,
   "id": "6cdaed8e-7486-4b22-a7f2-599fa8ff61d4",
   "metadata": {},
   "outputs": [],
   "source": []
  },
  {
   "cell_type": "code",
   "execution_count": null,
   "id": "84224143-2bc4-4f18-95ae-2ea4cb00269e",
   "metadata": {},
   "outputs": [],
   "source": []
  },
  {
   "cell_type": "code",
   "execution_count": null,
   "id": "dac7b21e-c6ba-4819-98a0-91df635db65a",
   "metadata": {},
   "outputs": [],
   "source": []
  }
 ],
 "metadata": {
  "kernelspec": {
   "display_name": "Python 3 (ipykernel)",
   "language": "python",
   "name": "python3"
  },
  "language_info": {
   "codemirror_mode": {
    "name": "ipython",
    "version": 3
   },
   "file_extension": ".py",
   "mimetype": "text/x-python",
   "name": "python",
   "nbconvert_exporter": "python",
   "pygments_lexer": "ipython3",
   "version": "3.8.19"
  }
 },
 "nbformat": 4,
 "nbformat_minor": 5
}
