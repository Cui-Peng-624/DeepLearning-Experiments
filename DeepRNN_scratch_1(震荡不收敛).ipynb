{
 "cells": [
  {
   "cell_type": "code",
   "execution_count": 79,
   "id": "5550b118-af59-45bf-816d-163ae069789e",
   "metadata": {},
   "outputs": [],
   "source": [
    "%matplotlib inline\n",
    "import math\n",
    "import torch\n",
    "import torch.nn.functional as F\n",
    "from torch import nn\n",
    "import numpy as np\n",
    "import os\n",
    "import re\n",
    "from collections import Counter\n",
    "import numpy as np\n",
    "from visualization import TrainingVisualizer"
   ]
  },
  {
   "cell_type": "code",
   "execution_count": 80,
   "id": "a1df735e-7bc6-4a08-84f8-33f33aa6a779",
   "metadata": {},
   "outputs": [
    {
     "name": "stdout",
     "output_type": "stream",
     "text": [
      "Using device: cuda\n"
     ]
    }
   ],
   "source": [
    "# 检查GPU是否可用\n",
    "device = torch.device(\"cuda\" if torch.cuda.is_available() else \"cpu\")\n",
    "print(f\"Using device: {device}\")"
   ]
  },
  {
   "cell_type": "code",
   "execution_count": 81,
   "id": "00bad4dc-8061-40f2-93b0-1a89160547ac",
   "metadata": {},
   "outputs": [
    {
     "name": "stdout",
     "output_type": "stream",
     "text": [
      "Unique characters: 27\n",
      "Character to Index mapping: {'\\n': 0, ' ': 1, '_': 2, 'a': 3, 'b': 4, 'c': 5, 'd': 6, 'e': 7, 'f': 8, 'g': 9, 'h': 10, 'i': 11, 'k': 12, 'l': 13, 'm': 14, 'n': 15, 'o': 16, 'p': 17, 'r': 18, 's': 19, 't': 20, 'u': 21, 'v': 22, 'w': 23, 'x': 24, 'y': 25, '<unk>': 26}\n",
      "First 100 characters as indices: [20 10  7  1 20 11 14  7  1 14]\n"
     ]
    }
   ],
   "source": [
    "# 设置阈值\n",
    "threshold = 5\n",
    "\n",
    "# 加载文本数据\n",
    "with open('data/time_machine_txt/timemachine.txt', 'r') as f:\n",
    "    text = f.read()\n",
    "\n",
    "# 将所有字符转换为小写\n",
    "text = text.lower()\n",
    "\n",
    "# 移除所有标点符号\n",
    "text = re.sub(r'[^\\w\\s]', '', text)  # 仅保留字母、数字和空格\n",
    "# 截取前 n 个字符\n",
    "n = 3000\n",
    "text = text[:n]\n",
    "\n",
    "# 计算字符的词频\n",
    "char_counts = Counter(text)\n",
    "\n",
    "# 创建字符映射表，保留词频不低于阈值的字符，其他字符设为<unk>\n",
    "chars = sorted([ch for ch, count in char_counts.items() if count >= threshold])\n",
    "chars.append('<unk>')  # 添加<unk>标记\n",
    "\n",
    "char_to_idx = {ch: idx for idx, ch in enumerate(chars)}\n",
    "idx_to_char = {idx: ch for idx, ch in enumerate(chars)}\n",
    "unk_idx = char_to_idx['<unk>']\n",
    "\n",
    "# 转换文本为索引，如果字符词频低于阈值，则转换为<unk>\n",
    "text_as_int = np.array([char_to_idx.get(c, unk_idx) for c in text])\n",
    "\n",
    "# 打印结果示例\n",
    "print(\"Unique characters:\", len(chars))\n",
    "print(\"Character to Index mapping:\", char_to_idx)\n",
    "print(\"First 100 characters as indices:\", text_as_int[:10])"
   ]
  },
  {
   "cell_type": "code",
   "execution_count": 92,
   "id": "f9e347ca-870c-4ad9-b6f6-7d0c6e0649e9",
   "metadata": {},
   "outputs": [],
   "source": [
    "# 定义超参数\n",
    "vocab_size = len(chars)  # 字符的个数\n",
    "seq_size = 50  # 序列长度 - 一个句子100个单词\n",
    "batch_size = 128\n",
    "hidden_size = 256\n",
    "embedding_size = 64  # input_size 嵌入向量的大小\n",
    "num_layers = 3\n",
    "lr = 0.01\n",
    "num_epochs = 50000"
   ]
  },
  {
   "cell_type": "code",
   "execution_count": 93,
   "id": "393c8dfd-2d5e-4001-b9b0-ecfa60737bc0",
   "metadata": {},
   "outputs": [],
   "source": [
    "def create_dataset(text_as_int, seq_size, batch_size):\n",
    "    sequences = []\n",
    "    targets = []\n",
    "    for i in range(0, len(text_as_int) - seq_size):\n",
    "        sequences.append(text_as_int[i:i + seq_size])\n",
    "        targets.append(text_as_int[i + 1:i + seq_size + 1])\n",
    "    sequences = torch.tensor(sequences, dtype=torch.long)\n",
    "    targets = torch.tensor(targets, dtype=torch.long)\n",
    "    dataset = torch.utils.data.TensorDataset(sequences, targets)\n",
    "    dataloader = torch.utils.data.DataLoader(dataset, batch_size=batch_size, shuffle=True, drop_last=True)\n",
    "    return dataloader\n",
    "\n",
    "dataloader = create_dataset(text_as_int, seq_size, batch_size)"
   ]
  },
  {
   "cell_type": "code",
   "execution_count": 94,
   "id": "ecae7c2d-0d6e-47ff-ab5e-96c517b441bf",
   "metadata": {},
   "outputs": [],
   "source": [
    "def initialize_DeepRNN_Wb(embedding_size, hidden_size, vocab_size, num_layers, device):\n",
    "    \"\"\"\n",
    "    hidden_size：神经元个数\n",
    "    注意：\n",
    "    1. 第一个隐藏层的我们需要处理的输入的维度为：(batch_size, embedding_size)。\n",
    "    2. 而后面的隐藏层，根据“每个隐状态都连续地传递到当前层的下一个时间步和下一层的当前时间步”，后面的隐藏层需要处理的输入的size = 第一个隐藏层的输出size - (batch_size, hidden_size)\n",
    "    \"\"\"\n",
    "    params = []\n",
    "    input_size = embedding_size\n",
    "    # 初始化隐藏层参数\n",
    "    for layer in range(num_layers):\n",
    "        W_xh =  torch.normal(0, 1, (input_size, hidden_size), device = device) * 0.01\n",
    "        W_hh = torch.normal(0, 1, (hidden_size, hidden_size), device = device) * 0.01\n",
    "        b_h = torch.zeros((1, hidden_size), device = device) \n",
    "        hidden_layer_params = [W_xh, W_hh, b_h]\n",
    "        params.append(hidden_layer_params)\n",
    "        input_size = hidden_size\n",
    "\n",
    "    # 输出层参数\n",
    "    W_hq = torch.normal(0, 1, (hidden_size, vocab_size), device = device) * 0.01\n",
    "    b_q = torch.zeros((1, vocab_size), device = device)\n",
    "    output_layer_params = [W_hq, b_q]\n",
    "    params.append(output_layer_params)\n",
    "\n",
    "    # 附加梯度\n",
    "    for layer_params in params:\n",
    "        for param in layer_params:\n",
    "            param.requires_grad_(True)\n",
    "    \n",
    "    return params # 长度为 num_layers+1 的二维list"
   ]
  },
  {
   "cell_type": "code",
   "execution_count": 95,
   "id": "83f24739-be5f-42db-893b-e2597740f8b5",
   "metadata": {},
   "outputs": [],
   "source": [
    "def initialize_DeepRNN_H(batch_size, hidden_size, num_layers, device):\n",
    "    DeepRNN_H_list = []\n",
    "    for layer in range(num_layers):\n",
    "        H = torch.zeros((batch_size, hidden_size), device = device)\n",
    "        DeepRNN_H_list.append(H)\n",
    "    return DeepRNN_H_list # 包含 num_layers 个张量的list"
   ]
  },
  {
   "cell_type": "code",
   "execution_count": 96,
   "id": "7e5b1f95-62cd-42b3-b1ea-86139bce0e1c",
   "metadata": {},
   "outputs": [],
   "source": [
    "def DeepRNN_calculate(inputs, params, DeepRNN_H_list, num_layers, device): # inputs的形状：(seq_size，batch_size, embedding_size)；输入的H应该也是一个list，包含num_layers个张量        \n",
    "    outputs = []\n",
    "    W_hq, b_q = params[-1]\n",
    "    for X in inputs: # X的形状：(batch_size, embedding_size)\n",
    "        input_tensor = X # 第一个隐藏层的输入是X，之后的隐藏层输入都是H\n",
    "        for layer in range(num_layers):\n",
    "            W_xh, W_hh, b_h = params[layer]\n",
    "            DeepRNN_H_list[layer] = torch.tanh(torch.mm(input_tensor, W_xh) + torch.mm(DeepRNN_H_list[layer], W_hh) + b_h)\n",
    "            input_tensor = DeepRNN_H_list[layer]\n",
    "        O = torch.mm(DeepRNN_H_list[num_layers-1], W_hq) + b_q\n",
    "        outputs.append(O) # outputs是每一个时间步的输出 - [tensor(batch_size, vocab_size), tensor(batch_size, vocab_size), ......]\n",
    "        \n",
    "    outputs = torch.stack(outputs)\n",
    "    return outputs, DeepRNN_H_list # outputs 的 size：(seq_size, batch_size, vocab_size)"
   ]
  },
  {
   "cell_type": "code",
   "execution_count": 97,
   "id": "8571a827-b6e2-44b0-b45e-a186e3c5be49",
   "metadata": {},
   "outputs": [],
   "source": [
    "class DeepRNNModel(nn.Module):\n",
    "    def __init__(self, embedding_size, hidden_size, vocab_size, num_layers, initialize_DeepRNN_Wb, initialize_DeepRNN_H, DeepRNN_calculate, device):\n",
    "        super(DeepRNNModel, self).__init__()\n",
    "        self.device = device\n",
    "        self.num_layers = num_layers\n",
    "        self.embedding = nn.Embedding(vocab_size, embedding_size)\n",
    "        self.params = initialize_DeepRNN_Wb(embedding_size, hidden_size, vocab_size, num_layers, device)\n",
    "        self.initialize_DeepRNN_H = initialize_DeepRNN_H\n",
    "        self.DeepRNN_calculate = DeepRNN_calculate\n",
    "\n",
    "    def forward(self, X, DeepRNN_H_list): \n",
    "        # 输入的X的形状为：(batch_size, seq_size)；DeepRNN_H_list的形状为：[(batch_size, hidden_size), (batch_size, hidden_size), ...]\n",
    "        X = self.embedding(X) # 此时X的形状变为：(batch_size, seq_size, embedding_size)\n",
    "        X = X.permute(1, 0, 2).to(self.device) # 此时X的形状变为：(seq_size, batch_size, embedding_size)\n",
    "        Y, DeepRNN_H_list = self.DeepRNN_calculate(X, self.params, DeepRNN_H_list, self.num_layers, self.device)\n",
    "        return Y, DeepRNN_H_list # 返回Y的size：(seq_size, batch_size, vocab_size)\n",
    "\n",
    "    def begin_H(self, batch_size, hidden_size, device):\n",
    "        return self.initialize_DeepRNN_H(batch_size, hidden_size, self.num_layers, device)"
   ]
  },
  {
   "cell_type": "code",
   "execution_count": 98,
   "id": "9976a06f-60d4-46a0-b0fb-33ad753e405c",
   "metadata": {},
   "outputs": [],
   "source": [
    "def grad_clipping(net, theta):\n",
    "    \"\"\"裁剪梯度\"\"\"\n",
    "    if isinstance(net, nn.Module):\n",
    "        params = [p for p in net.parameters() if p.requires_grad]\n",
    "    else:\n",
    "        params = net.params\n",
    "    norm = torch.sqrt(sum(torch.sum((p.grad ** 2)) for p in params))\n",
    "    if norm > theta:\n",
    "        for param in params:\n",
    "            param.grad[:] *= theta / norm # 整体进行一个缩放"
   ]
  },
  {
   "cell_type": "code",
   "execution_count": 99,
   "id": "05b661d7-e415-49d5-bdc7-fc53d6d41ba7",
   "metadata": {},
   "outputs": [],
   "source": [
    "def DeepRNN_train_epoch(train_iter, model, criterion, optimizer, device):\n",
    "    DeepRNN_H_list = None\n",
    "    \n",
    "    for X, Y in train_iter: # X，Y的形状：(batch_size, seq_size)\n",
    "        \n",
    "        if DeepRNN_H_list is None: # 如果处于第一个迭代周期\n",
    "            DeepRNN_H_list = model.begin_H(X.shape[0], hidden_size, device)\n",
    "        else: \n",
    "            DeepRNN_H_list = [H.detach() for H in DeepRNN_H_list]\n",
    "\n",
    "        Y = Y.T # Y的size从(batch_size, seq_size) -> (seq_size, batch_size)\n",
    "        Y_hat, DeepRNN_H_list = model(X, DeepRNN_H_list) # Y_hat的size：(seq_size, batch_size, vocab_size)\n",
    "        # 为了计算交叉熵损失，我们需要调整Y_hat和Y的size，这也是课本代码中使用reshape的原因\n",
    "        Y_hat = Y_hat.reshape(-1, Y_hat.shape[2]) # size变成：(seq_size*batch_size, vocab_size)\n",
    "        Y = Y.reshape(-1) # 把Y变为一维的张量\n",
    "        Y_hat, Y = Y_hat.to(device), Y.to(device)\n",
    "\n",
    "        optimizer.zero_grad()\n",
    "        loss = criterion(Y_hat, Y.long()).mean()\n",
    "        loss.backward()\n",
    "        grad_clipping(model, 1)\n",
    "        optimizer.step()\n",
    "\n",
    "        perplexity = math.exp(loss)\n",
    "        \n",
    "    return perplexity"
   ]
  },
  {
   "cell_type": "code",
   "execution_count": 100,
   "id": "a084edd4-ff58-4787-9e19-b7b6ab9ab841",
   "metadata": {},
   "outputs": [],
   "source": [
    "def DeepRNN_train(model, train_iter, lr, num_epochs, device):\n",
    "    \"\"\"训练模型\"\"\"\n",
    "    criterion = nn.CrossEntropyLoss()\n",
    "    optimizer = torch.optim.SGD(model.parameters(), lr)\n",
    "    visualizer = TrainingVisualizer(xlabel='Epoch', ylabel='Perplexity', title='Train DeepRNN_scratch in Time_Machine', legend=['Perplexity'])  \n",
    "\n",
    "    predict = lambda prefix: text_prediction(prefix, 50, model, device) # 匿名函数，输入prefix预测50个token\n",
    "    \n",
    "    # 训练和预测\n",
    "    for epoch in range(num_epochs):\n",
    "        perplexity = DeepRNN_train_epoch(train_iter, model, criterion, optimizer, device)\n",
    "        visualizer.add(epoch, [perplexity])"
   ]
  },
  {
   "cell_type": "code",
   "execution_count": null,
   "id": "560e1a21-c7b1-4b5f-88ce-71c19927c113",
   "metadata": {},
   "outputs": [
    {
     "data": {
      "image/png": "[encoded data removed]",
      "text/plain": [
       "<Figure size 700x500 with 1 Axes>"
      ]
     },
     "metadata": {},
     "output_type": "display_data"
    }
   ],
   "source": [
    "model = DeepRNNModel(embedding_size, hidden_size, vocab_size, num_layers, initialize_DeepRNN_Wb, initialize_DeepRNN_H, DeepRNN_calculate, device)\n",
    "\n",
    "DeepRNN_train(model, dataloader, lr, num_epochs, device)"
   ]
  },
  {
   "cell_type": "code",
   "execution_count": null,
   "id": "1d433014-7a1b-4fd7-a47d-b0bf4d171eed",
   "metadata": {},
   "outputs": [],
   "source": []
  },
  {
   "cell_type": "code",
   "execution_count": null,
   "id": "0e991f24-49a0-4bce-99ed-f6825e30fd7c",
   "metadata": {},
   "outputs": [],
   "source": []
  },
  {
   "cell_type": "code",
   "execution_count": null,
   "id": "f50e8bbe-aa46-43e9-8175-248315be9100",
   "metadata": {},
   "outputs": [],
   "source": []
  },
  {
   "cell_type": "code",
   "execution_count": null,
   "id": "b682a301-f7d6-44b3-b93b-8c1395f358be",
   "metadata": {},
   "outputs": [],
   "source": []
  }
 ],
 "metadata": {
  "kernelspec": {
   "display_name": "Python 3 (ipykernel)",
   "language": "python",
   "name": "python3"
  },
  "language_info": {
   "codemirror_mode": {
    "name": "ipython",
    "version": 3
   },
   "file_extension": ".py",
   "mimetype": "text/x-python",
   "name": "python",
   "nbconvert_exporter": "python",
   "pygments_lexer": "ipython3",
   "version": "3.9.19"
  }
 },
 "nbformat": 4,
 "nbformat_minor": 5
}
