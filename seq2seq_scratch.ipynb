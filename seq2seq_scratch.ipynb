{
 "cells": [
  {
   "cell_type": "code",
   "execution_count": null,
   "id": "27d83915-af13-41fa-bca1-4ac56daca77b",
   "metadata": {},
   "outputs": [],
   "source": [
    "from d2l import torch as d2l\n",
    "\n",
    "help(d2l.load_array)"
   ]
  },
  {
   "cell_type": "code",
   "execution_count": 1,
   "id": "bbf13aad-1659-4312-8583-187d8be5e0c2",
   "metadata": {},
   "outputs": [],
   "source": [
    "import torch\n",
    "from load_translation_data import load_data_nmt"
   ]
  },
  {
   "cell_type": "code",
   "execution_count": 2,
   "id": "dbfbaf58-22bb-4322-976a-4e9ac064ded0",
   "metadata": {},
   "outputs": [],
   "source": [
    "train_iter, src_vocab, tgt_vocab = load_data_nmt(batch_size=2, num_steps=10)"
   ]
  },
  {
   "cell_type": "code",
   "execution_count": 3,
   "id": "1bd2a362-7725-485b-a847-ba348f14960e",
   "metadata": {},
   "outputs": [
    {
     "name": "stdout",
     "output_type": "stream",
     "text": [
      "X: tensor([[ 7, 62,  4,  3,  1,  1,  1,  1,  1,  1],\n",
      "        [ 7, 64,  4,  3,  1,  1,  1,  1,  1,  1]], dtype=torch.int32)\n",
      "X的有效长度: tensor([4, 4])\n",
      "Y: tensor([[  6,   7, 116,   4,   3,   1,   1,   1,   1,   1],\n",
      "        [  6,   7, 136,   4,   3,   1,   1,   1,   1,   1]], dtype=torch.int32)\n",
      "Y的有效长度: tensor([5, 5])\n",
      "[('<unk>', 0), ('<pad>', 1), ('<bos>', 2), ('<eos>', 3), ('.', 4), ('!', 5), ('i', 6), (\"i'm\", 7), ('it', 8), ('go', 9)] \n",
      " [('<unk>', 0), ('<pad>', 1), ('<bos>', 2), ('<eos>', 3), ('.', 4), ('!', 5), ('je', 6), ('suis', 7), ('tom', 8), ('?', 9)]\n"
     ]
    }
   ],
   "source": [
    "# test\n",
    "for X, X_valid_len, Y, Y_valid_len in train_iter:\n",
    "    print('X:', X.type(torch.int32))\n",
    "    print('X的有效长度:', X_valid_len)\n",
    "    print('Y:', Y.type(torch.int32))\n",
    "    print('Y的有效长度:', Y_valid_len)\n",
    "    break\n",
    "\n",
    "print(list(src_vocab.token_to_idx.items())[:10], \"\\n\", list(tgt_vocab.token_to_idx.items())[:10])"
   ]
  },
  {
   "cell_type": "code",
   "execution_count": null,
   "id": "5f79ff19-4d67-4d2d-b053-3512d8071966",
   "metadata": {},
   "outputs": [],
   "source": [
    "from LSTM import LSTMModel, LSTM_train"
   ]
  },
  {
   "cell_type": "code",
   "execution_count": null,
   "id": "ddb6f1f9-39fb-47be-a4de-460cd7f79426",
   "metadata": {},
   "outputs": [],
   "source": []
  },
  {
   "cell_type": "code",
   "execution_count": null,
   "id": "ec9fabab-211a-4c53-8281-fb17ad17fdf8",
   "metadata": {},
   "outputs": [],
   "source": []
  },
  {
   "cell_type": "code",
   "execution_count": null,
   "id": "444fbff4-27f0-4fe3-a31b-738baccfd906",
   "metadata": {},
   "outputs": [],
   "source": []
  }
 ],
 "metadata": {
  "kernelspec": {
   "display_name": "Python 3 (ipykernel)",
   "language": "python",
   "name": "python3"
  },
  "language_info": {
   "codemirror_mode": {
    "name": "ipython",
    "version": 3
   },
   "file_extension": ".py",
   "mimetype": "text/x-python",
   "name": "python",
   "nbconvert_exporter": "python",
   "pygments_lexer": "ipython3",
   "version": "3.9.19"
  }
 },
 "nbformat": 4,
 "nbformat_minor": 5
}
