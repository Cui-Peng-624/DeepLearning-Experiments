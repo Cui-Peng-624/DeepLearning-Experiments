{
 "cells": [
  {
   "cell_type": "code",
   "execution_count": 1,
   "id": "c4908f85-9d6e-40af-afc5-7e038c615ee5",
   "metadata": {},
   "outputs": [],
   "source": [
    "num_hiddens = 256\n",
    "num_heads = 8\n",
    "dropout = 0.5\n",
    "\n",
    "batch_size = 64\n",
    "seq_size = 50\n",
    "\n",
    "normalized_shape = [num_hiddens]\n",
    "\n",
    "ffn_num_hiddens = 128\n",
    "num_layers = 6\n",
    "\n",
    "i = 0 \n",
    "\n",
    "num_epochs = 100\n",
    "lr = 0.01"
   ]
  },
  {
   "cell_type": "markdown",
   "id": "12d8300a-b9b1-46d4-82bf-5e94ce7ad973",
   "metadata": {},
   "source": [
    "# 极坐标位置编码"
   ]
  },
  {
   "cell_type": "code",
   "execution_count": 2,
   "id": "56a88017-6e4c-4fbf-84e0-4c6611b70892",
   "metadata": {},
   "outputs": [],
   "source": [
    "import numpy as np\n",
    "import torch\n",
    "from torch import nn\n",
    "\n",
    "class PositionalEncoding_PolarCoordinates(nn.Module):\n",
    "    def __init__(self, batch_size, seq_size, embedding_size_half, dropout):\n",
    "        super(PositionalEncoding_PolarCoordinates, self).__init__()\n",
    "        self.dropout = nn.Dropout(dropout)\n",
    "        \n",
    "        position_encoding_matrix = np.zeros((seq_size, 2))\n",
    "    \n",
    "        for i in range(seq_size):\n",
    "            theta = (i / (seq_size - 1)) * (np.pi / 2)  # 从0到π/2的均匀分布\n",
    "            x = np.cos(theta)\n",
    "            y = np.sin(theta)\n",
    "            position_encoding_matrix[i, 0] = x\n",
    "            position_encoding_matrix[i, 1] = y\n",
    "    \n",
    "        position_encoding_matrix = torch.from_numpy(position_encoding_matrix).float() # 将numpy转化成float的tensor\n",
    "        self.position_encoding_matrix = position_encoding_matrix.repeat(1, embedding_size_half).unsqueeze(0).repeat(batch_size, 1, 1)\n",
    "        \n",
    "    def forward(self, X):\n",
    "        batch_size_X = X.shape[0]\n",
    "        # print(X.shape, self.position_encoding_matrix.shape)\n",
    "        # 输入维度为：(1, seq_size, embedding_size)\n",
    "        X = X + self.position_encoding_matrix[0:batch_size_X, :, :].to(X.device)\n",
    "        X = self.dropout(X)\n",
    "        return X"
   ]
  },
  {
   "cell_type": "code",
   "execution_count": 3,
   "id": "ab3a9ed0-c0f9-4258-815b-93403f931dce",
   "metadata": {},
   "outputs": [
    {
     "data": {
      "text/plain": [
       "torch.Size([64, 50, 256])"
      ]
     },
     "execution_count": 3,
     "metadata": {},
     "output_type": "execute_result"
    }
   ],
   "source": [
    "# test\n",
    "pos_encoding_pc = PositionalEncoding_PolarCoordinates(batch_size, seq_size, int(num_hiddens/2), dropout)\n",
    "X = torch.rand(batch_size, seq_size, num_hiddens)\n",
    "X = pos_encoding_pc(X)\n",
    "X.shape"
   ]
  },
  {
   "cell_type": "markdown",
   "id": "a2a27f92-ca18-450d-a860-24e9b236e4e5",
   "metadata": {},
   "source": [
    "# transformer"
   ]
  },
  {
   "cell_type": "code",
   "execution_count": 4,
   "id": "40be7e7d-f76a-4740-9531-7d63f4d1024c",
   "metadata": {},
   "outputs": [],
   "source": [
    "import os\n",
    "os.environ['CUDA_LAUNCH_BLOCKING'] = '1'\n",
    "os.environ['TORCH_USE_CUDA_DSA'] = '1'\n",
    "\n",
    "import math\n",
    "import torch\n",
    "from torch import nn\n",
    "from torch.nn.functional import softmax\n",
    "\n",
    "from load_translation_data import load_data_nmt\n",
    "from visualization import TrainingVisualizer"
   ]
  },
  {
   "cell_type": "code",
   "execution_count": 5,
   "id": "32a42b7a-50d4-41f6-878d-6653ed2f89da",
   "metadata": {},
   "outputs": [
    {
     "name": "stdout",
     "output_type": "stream",
     "text": [
      "Using device: cuda\n"
     ]
    }
   ],
   "source": [
    "# 检查GPU是否可用\n",
    "device = torch.device(\"cuda\" if torch.cuda.is_available() else \"cpu\")\n",
    "print(f\"Using device: {device}\")"
   ]
  },
  {
   "cell_type": "code",
   "execution_count": 6,
   "id": "8374680a-c04a-4f63-8715-0834e8147838",
   "metadata": {},
   "outputs": [
    {
     "data": {
      "text/plain": [
       "(184, 201)"
      ]
     },
     "execution_count": 6,
     "metadata": {},
     "output_type": "execute_result"
    }
   ],
   "source": [
    "train_iter, src_vocab, tgt_vocab = load_data_nmt(batch_size, seq_size)\n",
    "src_vocab_size = len(src_vocab)\n",
    "tgt_vocab_size = len(tgt_vocab)\n",
    "src_vocab_size, tgt_vocab_size"
   ]
  },
  {
   "cell_type": "code",
   "execution_count": 7,
   "id": "4f7c1b5a-ff1d-4345-a33c-9ca97fafe869",
   "metadata": {},
   "outputs": [],
   "source": [
    "class PositionalEncoding(nn.Module):\n",
    "    def __init__(self, embedding_size, dropout, max_len=1000):\n",
    "        super(PositionalEncoding, self).__init__()\n",
    "        self.dropout = nn.Dropout(dropout)\n",
    "        # 创建一个足够长的P\n",
    "        self.P = torch.zeros((1, max_len, embedding_size)) \n",
    "        \n",
    "        numerator = torch.arange(max_len, dtype=torch.float32).reshape(-1, 1) # 定义分子 - 转变为(max_len, 1)\n",
    "        denominator = torch.pow(10000, torch.arange(0, embedding_size, 2, dtype=torch.float32) / embedding_size) # 定义分母 - 输出维度为(1, embedding_size/2)\n",
    "        fraction = numerator / denominator # 输出维度(max_len, embedding_size/2)\n",
    "        \n",
    "        self.P[:, :, 0::2] = torch.sin(fraction) # 0::2 表示从索引 0 开始，每隔两个元素选择一个元素\n",
    "        self.P[:, :, 1::2] = torch.cos(fraction) # 1::2 表示从索引 1 开始，每隔两个元素选择一个元素。\n",
    "\n",
    "    def forward(self, X):\n",
    "        # 输入维度为：(1, seq_size, embedding_size)\n",
    "        X = X + self.P[:, :X.shape[1], :].to(X.device)\n",
    "        X = self.dropout(X)\n",
    "        return X"
   ]
  },
  {
   "cell_type": "code",
   "execution_count": 8,
   "id": "01f9eb98-5a8f-40ba-a452-c4408ab84840",
   "metadata": {},
   "outputs": [],
   "source": [
    "def transpose_qkv(X, num_heads):\n",
    "    \"\"\"为了多注意力头的并行计算而变换形状\"\"\"\n",
    "    # 输入X的形状:(batch_size，seq_size，#_size*num_heads)\n",
    "    X = X.reshape(X.shape[0], X.shape[1], num_heads, -1) # (batch_size，seq_size，num_heads，#_size) \n",
    "    X = X.permute(0, 2, 1, 3) # (batch_size，num_heads，seq_size, #_size)\n",
    "    X = X.reshape(-1, X.shape[2], X.shape[3]) # 最终输出的形状: (batch_size*num_heads, seq_size, #_size)\n",
    "    return X\n",
    "\n",
    "def transpose_output(X, num_heads):\n",
    "    \"\"\"逆转transpose_qkv函数的操作\"\"\"\n",
    "    # 输出维度：(batch_size*num_heads, seq_size, value_size)\n",
    "    X = X.reshape(-1, num_heads, X.shape[1], X.shape[2]) # (batch_size, num_heads, seq_size, value_size)\n",
    "    X = X.permute(0, 2, 1, 3) # (batch_size, seq_size, num_heads, value_size)\n",
    "    X = X.reshape(X.shape[0], X.shape[1], -1) # (batch_size, seq_size, num_heads*value_size)\n",
    "    return X"
   ]
  },
  {
   "cell_type": "code",
   "execution_count": 9,
   "id": "c775b23a-5281-4f1c-90de-eae4408a21c6",
   "metadata": {},
   "outputs": [],
   "source": [
    "class MultiHeadAttention(nn.Module):\n",
    "    def __init__(self, num_hiddens, num_heads, dropout, bias=False, **kwargs): \n",
    "        super(MultiHeadAttention, self).__init__(**kwargs)\n",
    "        self.num_hiddens = num_hiddens\n",
    "        self.num_heads = num_heads\n",
    "        self.dropout = nn.Dropout(dropout)\n",
    "        self.key_size = num_hiddens / num_heads\n",
    "        self.W_q = nn.Linear(num_hiddens, num_hiddens, bias=bias) # 实际上：(embedding_size, query_size*num_heads)\n",
    "        self.W_k = nn.Linear(num_hiddens, num_hiddens, bias=bias) # 实际上：(embedding_size, key_size*num_heads)\n",
    "        self.W_v = nn.Linear(num_hiddens, num_hiddens, bias=bias) # 实际上：(embedding_size, value_size*num_heads)\n",
    "        self.W_o = nn.Linear(num_hiddens, num_hiddens, bias=bias) # 实际上：(value_size*num_heads, output_size)\n",
    "\n",
    "    def forward(self, X_queries, X_keys, X_values, valid_lens=None):\n",
    "        queries = self.W_q(X_queries) # (batch_size, seq_size, query_size*num_heads)\n",
    "        keys = self.W_k(X_keys) # (batch_size, seq_size, key_size*num_heads)\n",
    "        values = self.W_v(X_values) # (batch_size, seq_size, value_size*num_heads)\n",
    "\n",
    "        queries = transpose_qkv(queries, self.num_heads) # (batch_size*num_heads, seq_size, query_size)\n",
    "        keys = transpose_qkv(keys, self.num_heads) # (batch_size*num_heads, seq_size, key_size)\n",
    "        values = transpose_qkv(values, self.num_heads) # (batch_size*num_heads, seq_size, value_size)\n",
    "\n",
    "        keys = keys.transpose(1, 2) # 交换keys的第一个和第二个维度（从0开始） -> (batch_size*num_heads, key_size, seq_size)\n",
    "        scores = torch.bmm(queries, keys) # 1.输出维度：(batch_size*num_heads, seq_size, seq_size) 2.我们需要保证 query_size = key_size！ 3.在decoder中是(batch_size*num_heads, seq_size, seq_size*(i+1))\n",
    "        scores = scores / torch.tensor([math.sqrt(self.key_size)]).to(scores.device) # 除以 根号下(key_size)；输出维度：(batch_size*num_heads, seq_size, seq_size)\n",
    "        \n",
    "        attention_weights = self.masked_softmax(scores, valid_lens)\n",
    "        # print(attention_weights, \"####################\\n\")\n",
    "        attention_weights = self.dropout(attention_weights)\n",
    "\n",
    "        attention_outputs = torch.bmm(attention_weights, values) # (batch_size*num_heads, seq_size, seq_size) 与 (batch_size*num_heads, seq_size, value_size) 相乘 -> (batch_size*num_heads, seq_size, value_size)\n",
    "\n",
    "        # 组合多头。此时的Z的维度为：(batch_size*num_heads, seq_size, value_size)，我们需要进行一定的转化\n",
    "        attention_outputs_concat = transpose_output(attention_outputs, self.num_heads) # Z_concat的维度：(batch_size, seq_size, num_heads*value_size)\n",
    "\n",
    "        outputs = self.W_o(attention_outputs_concat) # outputs的维度：(batch_size, seq_size, num_hiddens)\n",
    "        # print(outputs, \"####################\\n\")\n",
    "        return outputs\n",
    "\n",
    "    def masked_softmax(self, scores, valid_lens):\n",
    "        # 输入 scores 的维度：(batch_size*num_heads, seq_size, seq_size)\n",
    "        # 输入 valid_lens 的维度：1.(1, batch_size) 行向量；2.(seq_size, seq_size)\n",
    "        dim1, seq_size, _ = scores.shape\n",
    "        if valid_lens is None:\n",
    "            return nn.functional.softmax(scores, dim=-1) \n",
    "        else: \n",
    "            if valid_lens.dim() == 1:\n",
    "                valid_lens = valid_lens.repeat_interleave(self.num_heads, dim=0)\n",
    "                mask = torch.arange(seq_size, device=scores.device)[None, :] < valid_lens[:, None] \n",
    "                scores[~mask] = -100000 \n",
    "                # scores[~mask] = float('-inf')\n",
    "            elif valid_lens.dim() == 2:\n",
    "                valid_lens = valid_lens.bool()  \n",
    "                mask = valid_lens.unsqueeze(0).unsqueeze(0).repeat(int(dim1/self.num_heads), self.num_heads, 1, 1)\n",
    "                # print(mask.shape)\n",
    "                mask = mask.view(dim1, seq_size, seq_size)\n",
    "                scores[mask] = -100000\n",
    "                # scores[mask] = float('-inf')\n",
    "\n",
    "            return nn.functional.softmax(scores, dim=-1)"
   ]
  },
  {
   "cell_type": "code",
   "execution_count": 10,
   "id": "91ddd9ad-f44d-4a2a-8ddd-ffd3e555c79b",
   "metadata": {},
   "outputs": [],
   "source": [
    "class AddNorm(nn.Module):\n",
    "    \"\"\"残差连接后进行层规范化\"\"\"\n",
    "    def __init__(self, normalized_shape, dropout, **kwargs):\n",
    "        # 输入维度：(batch_size, seq_size, num_hiddens)\n",
    "        # normalized_shape是最后一个维度的大小，LN就是对每个样本的所有特征进行归一化，在transformer中就是对每个句子，也就是batch进行LN\n",
    "        super(AddNorm, self).__init__(**kwargs)\n",
    "        self.dropout = nn.Dropout(dropout)\n",
    "        self.ln = nn.LayerNorm(normalized_shape)\n",
    "\n",
    "    def forward(self, X, Y):\n",
    "        fx_add_x = self.dropout(Y) + X # 残差连接\n",
    "        outputs = self.ln(fx_add_x) # Layer Normalization层归一化 - 对每个样本的所有特征进行归一化\n",
    "        return outputs"
   ]
  },
  {
   "cell_type": "code",
   "execution_count": 11,
   "id": "6a9c6935-6a2f-4ae9-9f1d-b79539806c4e",
   "metadata": {},
   "outputs": [],
   "source": [
    "class PositionWiseFFN(nn.Module):\n",
    "    \"\"\"基于位置的前馈网络\"\"\"\n",
    "    def __init__(self, num_hiddens, ffn_num_hiddens, **kwargs):\n",
    "        # 输入的维度：(batch_size, seq_size, num_hiddens)\n",
    "        # ffn_num_input = ffn_num_outputs = num_hiddens\n",
    "        super(PositionWiseFFN, self).__init__(**kwargs)\n",
    "        self.dense1 = nn.Linear(num_hiddens, ffn_num_hiddens)\n",
    "        self.relu = nn.ReLU()\n",
    "        self.dense2 = nn.Linear(ffn_num_hiddens, num_hiddens)\n",
    "\n",
    "    def forward(self, X):\n",
    "        X = self.dense1(X)\n",
    "        X = self.relu(X)\n",
    "        X = self.dense2(X)\n",
    "        return X # (batch_size, seq_len, num_hiddens) -> (batch_size, seq_size, num_hiddens)"
   ]
  },
  {
   "cell_type": "code",
   "execution_count": 12,
   "id": "44619931-d077-4e45-b5d2-b2907df4d734",
   "metadata": {},
   "outputs": [],
   "source": [
    "class EncoderBlock(nn.Module):\n",
    "    \"\"\"Transformer编码器块\"\"\"\n",
    "    def __init__(self, num_hiddens, num_heads, normalized_shape, ffn_num_hiddens, dropout, use_bias=False, **kwargs):\n",
    "        super(EncoderBlock, self).__init__(**kwargs)\n",
    "        self.attention = MultiHeadAttention(num_hiddens, num_heads, dropout)\n",
    "        self.addnorm1 = AddNorm(normalized_shape, dropout)\n",
    "        self.ffn = PositionWiseFFN(num_hiddens, ffn_num_hiddens)\n",
    "        self.addnorm2 = AddNorm(normalized_shape, dropout)\n",
    "\n",
    "    def forward(self, X, valid_lens):\n",
    "        # print(\"encoder的多头注意力\")\n",
    "        Y = self.addnorm1(X, self.attention(X, X, X, valid_lens))\n",
    "        return self.addnorm2(Y, self.ffn(Y))"
   ]
  },
  {
   "cell_type": "code",
   "execution_count": 13,
   "id": "202ec11c-236e-4b17-bcee-beee7055ccdf",
   "metadata": {},
   "outputs": [],
   "source": [
    "class TransformerEncoder(nn.Module):\n",
    "    \"\"\"Transformer编码器\"\"\"\n",
    "    def __init__(self, src_vocab_size, num_hiddens, num_heads, normalized_shape, ffn_num_hiddens, num_layers, dropout, use_bias=False, **kwargs):\n",
    "        super(TransformerEncoder, self).__init__(**kwargs)\n",
    "        self.embedding_size = num_hiddens\n",
    "        self.embedding = nn.Embedding(src_vocab_size, num_hiddens)\n",
    "        self.pos_encoding = PositionalEncoding(num_hiddens, dropout)\n",
    "        self.blks = nn.Sequential()\n",
    "        for i in range(num_layers): # 堆叠 num_layers 个 EncoderBlock\n",
    "            self.blks.add_module(\"block\"+str(i), EncoderBlock(num_hiddens, num_heads, normalized_shape, ffn_num_hiddens, dropout, use_bias))\n",
    "\n",
    "    def forward(self, X, valid_lens, *args):\n",
    "        # 因为位置编码值在-1和1之间，因此需要嵌入值乘以嵌入维度的平方根进行缩放，然后再与位置编码相加。\n",
    "        X = self.pos_encoding(self.embedding(X) * math.sqrt(self.embedding_size)) # 大佬的解释：token是one-hot，经过embedding相当于从词嵌入矩阵W中取特定行，而W被 Xavier初始化，其方差和嵌入维数成反比。也就是嵌入维数越大，方差越小，权重越集中于0，后续再和positional encoding相加，词嵌入特征由于绝对值太小，可能被位置信息掩盖，难以影响模型后续计算。因此需要放大W的方差，最直接的方法就是乘以维度的平方根。\n",
    "        # self.attention_weights = [None] * len(self.blks)\n",
    "        for i, blk in enumerate(self.blks):\n",
    "            X = blk(X, valid_lens) # 通过编码块\n",
    "            # self.attention_weights[i] = blk.attention.attention.attention_weights\n",
    "        return X"
   ]
  },
  {
   "cell_type": "code",
   "execution_count": 14,
   "id": "f47d4cff-f60f-427c-a4a5-b896451a7dda",
   "metadata": {},
   "outputs": [],
   "source": [
    "class TransformerEncoder_PC(nn.Module):\n",
    "    \"\"\"Transformer编码器\"\"\"\n",
    "    def __init__(self, src_vocab_size, num_hiddens, num_heads, normalized_shape, ffn_num_hiddens, num_layers, dropout, use_bias=False, **kwargs):\n",
    "        super(TransformerEncoder_PC, self).__init__(**kwargs)\n",
    "        self.embedding_size = num_hiddens\n",
    "        self.embedding = nn.Embedding(src_vocab_size, num_hiddens)\n",
    "        self.pos_encoding = PositionalEncoding_PolarCoordinates(batch_size, seq_size, int(num_hiddens/2), dropout)\n",
    "        self.blks = nn.Sequential()\n",
    "        for i in range(num_layers): # 堆叠 num_layers 个 EncoderBlock\n",
    "            self.blks.add_module(\"block\"+str(i), EncoderBlock(num_hiddens, num_heads, normalized_shape, ffn_num_hiddens, dropout, use_bias))\n",
    "\n",
    "    def forward(self, X, valid_lens, *args):\n",
    "        # 因为位置编码值在-1和1之间，因此需要嵌入值乘以嵌入维度的平方根进行缩放，然后再与位置编码相加。\n",
    "        X = self.pos_encoding(self.embedding(X) * math.sqrt(self.embedding_size)) # 大佬的解释：token是one-hot，经过embedding相当于从词嵌入矩阵W中取特定行，而W被 Xavier初始化，其方差和嵌入维数成反比。也就是嵌入维数越大，方差越小，权重越集中于0，后续再和positional encoding相加，词嵌入特征由于绝对值太小，可能被位置信息掩盖，难以影响模型后续计算。因此需要放大W的方差，最直接的方法就是乘以维度的平方根。\n",
    "        # self.attention_weights = [None] * len(self.blks)\n",
    "        for i, blk in enumerate(self.blks):\n",
    "            X = blk(X, valid_lens) # 通过编码块\n",
    "            # self.attention_weights[i] = blk.attention.attention.attention_weights\n",
    "        return X"
   ]
  },
  {
   "cell_type": "code",
   "execution_count": 15,
   "id": "130292aa-a2cc-4c1d-a5b8-b921906df6ef",
   "metadata": {},
   "outputs": [],
   "source": [
    "class DecoderBlock(nn.Module):\n",
    "    \"\"\"解码器中第i个块\"\"\"\n",
    "    def __init__(self, num_hiddens, num_heads, normalized_shape, ffn_num_hiddens, dropout, i, **kwargs):\n",
    "        super(DecoderBlock, self).__init__(**kwargs)\n",
    "        self.i = i\n",
    "        self.attention1 = MultiHeadAttention(num_hiddens, num_heads, dropout)\n",
    "        self.addnorm1 = AddNorm(normalized_shape, dropout)\n",
    "        self.attention2 = MultiHeadAttention(num_hiddens, num_heads, dropout)\n",
    "        self.addnorm2 = AddNorm(normalized_shape, dropout)\n",
    "        self.ffn = PositionWiseFFN(num_hiddens, ffn_num_hiddens)\n",
    "        self.addnorm3 = AddNorm(normalized_shape, dropout)\n",
    "\n",
    "    def forward(self, X, state):\n",
    "        enc_outputs, enc_valid_lens = state[0], state[1]\n",
    "\n",
    "        if state[2][self.i] is None: \n",
    "            key_values = X\n",
    "        else:\n",
    "            key_values = torch.cat((state[2][self.i], X), axis=1) \n",
    "        state[2][self.i] = key_values \n",
    "\n",
    "        # dec_valid_lens的作用是未来掩码，但目前我不清楚是如何运作的\n",
    "        if self.training: \n",
    "            _, seq_size, _ = X.shape\n",
    "            # dec_valid_lens = torch.arange(1, seq_size + 1, device=X.device).repeat(batch_size, 1) \n",
    "            dec_valid_lens = torch.triu(torch.ones(seq_size, seq_size, device=X.device), diagonal=1)\n",
    "        else: \n",
    "            dec_valid_lens = None # 构建dec_valid_lens，以便任何查询都只会与解码器中所有已经生成词元的位置（即直到该查询位置为止）进行注意力计算。\n",
    "\n",
    "        # 自注意力\n",
    "        # print(\"decoder的第一个多头注意力\")\n",
    "        X1 = self.attention1(X, key_values, key_values, dec_valid_lens) # 第一次的输入还是X,X,X\n",
    "        X2 = self.addnorm1(X, X1)\n",
    "        # 编码器－解码器注意力。\n",
    "        # print(\"decoder的第二个多头注意力\")\n",
    "        X3 = self.attention2(X2, enc_outputs, enc_outputs, enc_valid_lens) # 这里如何理解？？？？？？\n",
    "        Y = self.addnorm2(X2, X3)\n",
    "        return self.addnorm3(Y, self.ffn(Y)), state"
   ]
  },
  {
   "cell_type": "code",
   "execution_count": 16,
   "id": "57ae2701-f064-402b-8465-87b2b1d230d0",
   "metadata": {},
   "outputs": [],
   "source": [
    "class TransformerDecoder(nn.Module):\n",
    "    def __init__(self, tgt_vocab_size, num_hiddens, num_heads, normalized_shape, ffn_num_hiddens, num_layers, dropout, **kwargs):\n",
    "        super(TransformerDecoder, self).__init__(**kwargs)\n",
    "        self.embedding_size = num_hiddens\n",
    "        self.num_layers = num_layers\n",
    "        self.embedding = nn.Embedding(tgt_vocab_size, num_hiddens)\n",
    "        self.pos_encoding = PositionalEncoding(num_hiddens, dropout)\n",
    "        self.blks = nn.Sequential()\n",
    "        for i in range(num_layers):\n",
    "            self.blks.add_module(\"block\"+str(i), DecoderBlock(num_hiddens, num_heads, normalized_shape, ffn_num_hiddens, dropout, i))\n",
    "        self.dense = nn.Linear(num_hiddens, tgt_vocab_size)\n",
    "\n",
    "    def init_state(self, enc_outputs, enc_valid_lens, *args):\n",
    "        state = [enc_outputs, enc_valid_lens, [None] * self.num_layers]\n",
    "        return state\n",
    "\n",
    "    def forward(self, X, state):\n",
    "        X = self.pos_encoding(self.embedding(X) * math.sqrt(self.embedding_size))\n",
    "        # self._attention_weights = [[None] * len(self.blks) for _ in range (2)]\n",
    "        for i, blk in enumerate(self.blks):\n",
    "            X, state = blk(X, state)\n",
    "            # 解码器自注意力权重\n",
    "            # self._attention_weights[0][i] = blk.attention1.attention.attention_weights\n",
    "            # “编码器－解码器”自注意力权重\n",
    "            # self._attention_weights[1][i] = blk.attention2.attention.attention_weights\n",
    "        return self.dense(X), state"
   ]
  },
  {
   "cell_type": "code",
   "execution_count": 17,
   "id": "3168c35c-2415-402a-a933-67b30801e435",
   "metadata": {},
   "outputs": [],
   "source": [
    "class TransformerDecoder_PC(nn.Module):\n",
    "    def __init__(self, tgt_vocab_size, num_hiddens, num_heads, normalized_shape, ffn_num_hiddens, num_layers, dropout, **kwargs):\n",
    "        super(TransformerDecoder_PC, self).__init__(**kwargs)\n",
    "        self.embedding_size = num_hiddens\n",
    "        self.num_layers = num_layers\n",
    "        self.embedding = nn.Embedding(tgt_vocab_size, num_hiddens)\n",
    "        self.pos_encoding = PositionalEncoding_PolarCoordinates(batch_size, seq_size, int(num_hiddens/2), dropout)\n",
    "        self.blks = nn.Sequential()\n",
    "        for i in range(num_layers):\n",
    "            self.blks.add_module(\"block\"+str(i), DecoderBlock(num_hiddens, num_heads, normalized_shape, ffn_num_hiddens, dropout, i))\n",
    "        self.dense = nn.Linear(num_hiddens, tgt_vocab_size)\n",
    "\n",
    "    def init_state(self, enc_outputs, enc_valid_lens, *args):\n",
    "        state = [enc_outputs, enc_valid_lens, [None] * self.num_layers]\n",
    "        return state\n",
    "\n",
    "    def forward(self, X, state):\n",
    "        X = self.pos_encoding(self.embedding(X) * math.sqrt(self.embedding_size))\n",
    "        # self._attention_weights = [[None] * len(self.blks) for _ in range (2)]\n",
    "        for i, blk in enumerate(self.blks):\n",
    "            X, state = blk(X, state)\n",
    "            # 解码器自注意力权重\n",
    "            # self._attention_weights[0][i] = blk.attention1.attention.attention_weights\n",
    "            # “编码器－解码器”自注意力权重\n",
    "            # self._attention_weights[1][i] = blk.attention2.attention.attention_weights\n",
    "        return self.dense(X), state"
   ]
  },
  {
   "cell_type": "code",
   "execution_count": 18,
   "id": "550ca092-c4ad-4bf3-b75b-8f5cb7ab4cc0",
   "metadata": {},
   "outputs": [],
   "source": [
    "class EncoderDecoder(nn.Module):\n",
    "    \"\"\"编码器-解码器架构的基类\"\"\"\n",
    "    def __init__(self, encoder, decoder, **kwargs):\n",
    "        super(EncoderDecoder, self).__init__(**kwargs)\n",
    "        self.encoder = encoder\n",
    "        self.decoder = decoder\n",
    "\n",
    "    def forward(self, enc_X, dec_X, *args):\n",
    "        enc_outputs = self.encoder(enc_X, *args)\n",
    "        dec_state = self.decoder.init_state(enc_outputs, *args)\n",
    "        return self.decoder(dec_X, dec_state)"
   ]
  },
  {
   "cell_type": "code",
   "execution_count": 19,
   "id": "89dd3898-6417-4c89-b272-6f6dcf24f300",
   "metadata": {},
   "outputs": [],
   "source": [
    "encoder = TransformerEncoder(src_vocab_size, num_hiddens, num_heads, normalized_shape, ffn_num_hiddens, num_layers, dropout)\n",
    "decoder = TransformerDecoder(tgt_vocab_size, num_hiddens, num_heads, normalized_shape, ffn_num_hiddens, num_layers, dropout)\n",
    "\n",
    "model = EncoderDecoder(encoder, decoder) # 输入 - X, dec_input, X_valid_len"
   ]
  },
  {
   "cell_type": "code",
   "execution_count": 20,
   "id": "ec8f9aa4-b2a8-45fd-9adb-9e6b17b0c2da",
   "metadata": {},
   "outputs": [],
   "source": [
    "encoder_PC = TransformerEncoder_PC(src_vocab_size, num_hiddens, num_heads, normalized_shape, ffn_num_hiddens, num_layers, dropout)\n",
    "decoder_PC = TransformerDecoder_PC(tgt_vocab_size, num_hiddens, num_heads, normalized_shape, ffn_num_hiddens, num_layers, dropout)\n",
    "\n",
    "model_PC = EncoderDecoder(encoder_PC, decoder_PC) # 输入 - X, dec_input, X_valid_len"
   ]
  },
  {
   "cell_type": "code",
   "execution_count": 21,
   "id": "10bd2ad3-1d4c-4c52-bf0b-954dcfb4c75b",
   "metadata": {},
   "outputs": [],
   "source": [
    "def grad_clipping(net, theta):\n",
    "    \"\"\"裁剪梯度\"\"\"\n",
    "    if isinstance(net, nn.Module):\n",
    "        params = [p for p in net.parameters() if p.requires_grad]\n",
    "    else:\n",
    "        params = net.params\n",
    "    norm = torch.sqrt(sum(torch.sum((p.grad ** 2)) for p in params))\n",
    "    if norm > theta:\n",
    "        for param in params:\n",
    "            param.grad[:] *= theta / norm # 整体进行一个缩放"
   ]
  },
  {
   "cell_type": "code",
   "execution_count": 22,
   "id": "1be8ee5b-3781-4d0c-8f6e-df6e7281cff6",
   "metadata": {},
   "outputs": [],
   "source": [
    "def sequence_mask(X, valid_len, value=0): # valid_length 有效长度\n",
    "    \"\"\"在序列中屏蔽不相关的项\"\"\"\n",
    "    maxlen = X.size(1) # 获取第二个维度的大小\n",
    "    mask = torch.arange((maxlen), dtype=torch.float32, device=X.device)\\\n",
    "                                                                        [None, :] < valid_len[:, None]\n",
    "    # [None, :]：将该一维张量扩展为形状 (1, maxlen)\n",
    "    # valid_len[:, None]：将有效长度张量 valid_len 从形状 (batch_size,) 扩展为 (batch_size, 1)\n",
    "    X[~mask] = value\n",
    "    return X\n",
    "\n",
    "class MaskedSoftmaxCELoss(nn.CrossEntropyLoss):\n",
    "    \"\"\"带遮蔽的softmax交叉熵损失函数\"\"\"\n",
    "    # pred的形状：(batch_size,num_steps,vocab_size)\n",
    "    # label的形状：(batch_size,num_steps)\n",
    "    # valid_len的形状：(batch_size,)\n",
    "    def forward(self, pred, label, valid_len):\n",
    "        weights = torch.ones_like(label) # 创建一个与指定张量具有相同形状和相同数据类型的新张量，并将所有元素初始化为 1\n",
    "        weights = sequence_mask(weights, valid_len) # 根据valid_len将weights中的部分设置为0\n",
    "        self.reduction='none'\n",
    "        unweighted_loss = super(MaskedSoftmaxCELoss, self).forward(pred.permute(0, 2, 1), label) \n",
    "        '''\n",
    "        调用父类 nn.CrossEntropyLoss 的 forward 方法计算未加权的损失。\n",
    "        由于 nn.CrossEntropyLoss 期望输入形状为 (batch_size, num_classes, num_steps)，所以我们通过 pred.permute(0, 2, 1) 将 pred 的形状从 (batch_size, num_steps, vocab_size) 转换为 (batch_size, vocab_size, num_steps)\n",
    "        '''\n",
    "        # print(unweighted_loss.shape)：(batch_size,num_steps)\n",
    "        # 将未加权的损失 unweighted_loss 与权重 weights 相乘，对每个时间步进行加权。然后对 dim=1 维度（时间步维度）进行平均，得到每个序列的加权损失。\n",
    "        weighted_loss = (unweighted_loss * weights).mean(dim=1)\n",
    "        return weighted_loss"
   ]
  },
  {
   "cell_type": "code",
   "execution_count": 23,
   "id": "fa6489ba-7cb7-4fe4-b176-820548c680a0",
   "metadata": {},
   "outputs": [],
   "source": [
    "def train_seq2seq(model, model_PC, data_iter, lr, num_epochs, tgt_vocab, device):\n",
    "    \"\"\"训练序列到序列模型多个epoch\"\"\"\n",
    "    \n",
    "    def xavier_init_weights(m): # 使用 Xavier 均匀分布初始化 Transformer 模型中的权重。\n",
    "        if type(m) == nn.Linear:\n",
    "            nn.init.xavier_uniform_(m.weight)\n",
    "\n",
    "    model.apply(xavier_init_weights)\n",
    "    model_PC.apply(xavier_init_weights)\n",
    "    model.to(device)\n",
    "    model_PC.to(device)\n",
    "    optimizer = torch.optim.Adam(model.parameters(), lr=lr)\n",
    "    optimizer_PC = torch.optim.Adam(model_PC.parameters(), lr=lr)\n",
    "    criterion = MaskedSoftmaxCELoss()\n",
    "    visualizer = TrainingVisualizer(xlabel='Epoch', ylabel='Value', title='Compare Different PE', legend=['Original PE', \"PC PE\"])\n",
    "    \n",
    "    for epoch in range(num_epochs):\n",
    "        total_loss = train_seq2seq_one_epoch(model, data_iter, lr, tgt_vocab, device, optimizer, criterion)\n",
    "        total_loss_PC = train_seq2seq_one_epoch(model_PC, data_iter, lr, tgt_vocab, device, optimizer_PC, criterion)\n",
    "        visualizer.add(epoch, [total_loss, total_loss_PC])\n",
    "        # print(f'Epoch {epoch + 1}, Total Loss: {total_loss}, Total Loss PC: {total_loss_PC}')\n",
    "\n",
    "def train_seq2seq_one_epoch(model, data_iter, lr, tgt_vocab, device, optimizer, criterion):\n",
    "    \"\"\"训练序列到序列模型一个epoch\"\"\"\n",
    "    model.train()\n",
    "    total_loss = 0\n",
    "    \n",
    "    for X, X_valid_len, Y, Y_valid_len in data_iter:\n",
    "        optimizer.zero_grad()\n",
    "        X, X_valid_len, Y, Y_valid_len = X.to(device), X_valid_len.to(device), Y.to(device), Y_valid_len.to(device)\n",
    "        \n",
    "        bos = torch.tensor([tgt_vocab['<bos>']] * Y.shape[0], device=device).reshape(-1, 1) # Y.shape[0]为batch_size，\n",
    "        dec_input = torch.cat([bos, Y[:, :-1]], 1)  # 强制教学。dim=0，加行；dim=1，加列。Y[:, :-1]选择所有行，列从第一列到倒数第二列\n",
    "        \n",
    "        Y_hat, _ = model(X, dec_input, X_valid_len) # 编码器输入：(X, X_valid_len)；解码器输入：(dec_input, 初始化的state)\n",
    "        loss = criterion(Y_hat, Y, Y_valid_len)\n",
    "        loss.sum().backward()\t\n",
    "        grad_clipping(model, 1)\n",
    "        num_tokens = Y_valid_len.sum()\n",
    "        optimizer.step()\n",
    "        total_loss += loss.sum().item()\n",
    "        \n",
    "    return total_loss"
   ]
  },
  {
   "cell_type": "code",
   "execution_count": 24,
   "id": "fcafe592-c2c5-4e71-a8ca-b6809914974a",
   "metadata": {},
   "outputs": [
    {
     "data": {
      "image/png": "[encoded data removed]",
      "text/plain": [
       "<Figure size 700x500 with 1 Axes>"
      ]
     },
     "metadata": {},
     "output_type": "display_data"
    }
   ],
   "source": [
    "train_seq2seq(model, model_PC, train_iter, lr, num_epochs, tgt_vocab, device)"
   ]
  },
  {
   "cell_type": "code",
   "execution_count": null,
   "id": "4293c3ba-c8ee-45de-b13c-4c0f629b60a4",
   "metadata": {},
   "outputs": [],
   "source": []
  },
  {
   "cell_type": "code",
   "execution_count": null,
   "id": "1f04c84d-4791-4cbd-8eba-c7adb767a05c",
   "metadata": {},
   "outputs": [],
   "source": []
  },
  {
   "cell_type": "code",
   "execution_count": null,
   "id": "ed5ffb1a-a7ad-4f25-920c-83cf9e0417c4",
   "metadata": {},
   "outputs": [],
   "source": []
  }
 ],
 "metadata": {
  "kernelspec": {
   "display_name": "Python 3 (ipykernel)",
   "language": "python",
   "name": "python3"
  },
  "language_info": {
   "codemirror_mode": {
    "name": "ipython",
    "version": 3
   },
   "file_extension": ".py",
   "mimetype": "text/x-python",
   "name": "python",
   "nbconvert_exporter": "python",
   "pygments_lexer": "ipython3",
   "version": "3.12.2"
  }
 },
 "nbformat": 4,
 "nbformat_minor": 5
}
